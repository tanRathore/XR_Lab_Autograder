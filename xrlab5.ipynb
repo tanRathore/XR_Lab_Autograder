{
 "cells": [
  {
   "cell_type": "markdown",
   "metadata": {},
   "source": [
    "Imports"
   ]
  },
  {
   "cell_type": "code",
   "execution_count": 1,
   "metadata": {},
   "outputs": [
    {
     "name": "stderr",
     "output_type": "stream",
     "text": [
      "/Users/ziyaozhou/Desktop/XR_Lab_Autograder/venv311/lib/python3.11/site-packages/tqdm/auto.py:21: TqdmWarning: IProgress not found. Please update jupyter and ipywidgets. See https://ipywidgets.readthedocs.io/en/stable/user_install.html\n",
      "  from .autonotebook import tqdm as notebook_tqdm\n"
     ]
    }
   ],
   "source": [
    "from dotenv import load_dotenv\n",
    "load_dotenv()\n",
    "import os\n",
    "import re\n",
    "import json\n",
    "import fitz  \n",
    "from PIL import Image\n",
    "from io import BytesIO\n",
    "from urllib.parse import urlparse\n",
    "import spacy\n",
    "import google.generativeai as genai\n",
    "from dotenv import load_dotenv\n",
    "from IPython.display import display, Markdown\n",
    "import matplotlib.pyplot as plt\n",
    "import pandas as pd\n",
    "from tqdm import tqdm\n",
    "nlp = spacy.load(\"en_core_web_sm\")"
   ]
  },
  {
   "cell_type": "markdown",
   "metadata": {},
   "source": [
    "Configure Gemini"
   ]
  },
  {
   "cell_type": "code",
   "execution_count": 2,
   "metadata": {},
   "outputs": [],
   "source": [
    "load_dotenv()\n",
    "GEMINI_API_KEY = os.getenv(\"GEMINI_API_KEY\")\n",
    "genai.configure(api_key=GEMINI_API_KEY)\n",
    "text_model = genai.GenerativeModel(\"gemini-2.0-flash\")\n",
    "vision_model = genai.GenerativeModel(\"gemini-2.0-flash\")"
   ]
  },
  {
   "cell_type": "markdown",
   "metadata": {},
   "source": [
    "Rubric"
   ]
  },
  {
   "cell_type": "code",
   "execution_count": 3,
   "metadata": {},
   "outputs": [],
   "source": [
    "rubric = {\n",
    "    \"architect_chosen\": 5,\n",
    "    \"doc_and_slides\": 5,\n",
    "    \"bio_750_words\": 5,\n",
    "    \"bio_structure\": 5,\n",
    "    \"bio_references\": 5,\n",
    "    \"10_buildings_with_images\": 5,\n",
    "    \"image_quality\": 5,\n",
    "    \"image_citations\": 5,\n",
    "    \"image_relevance\": 5,\n",
    "    \"personal_bio_photo\": 5,\n",
    "    \"presentation_polish\": 5\n",
    "}\n",
    "\n",
    "rubric_descriptions = {\n",
    "    \"architect_chosen\": \"Is the architect selected from Book Two and clearly identified?\",\n",
    "    \"doc_and_slides\": \"Is the document structured well with table of contents and all required sections?\",\n",
    "    \"bio_750_words\": \"Does the biography meet the 750-word requirement?\",\n",
    "    \"bio_structure\": \"Does the biography cover who they are, where they studied, etc.?\",\n",
    "    \"bio_references\": \"Are there 5–10 APA references with DOIs and citation counts?\",\n",
    "    \"10_buildings_with_images\": \"Are 10 buildings covered with names, locations, significance, and image suggestions?\",\n",
    "    \"image_quality\": \"Are the images high-resolution and well-composed?\",\n",
    "    \"image_citations\": \"Do all images have proper attribution (photographer/source)?\",\n",
    "    \"image_relevance\": \"Do images clearly relate to the architect’s work?\",\n",
    "    \"personal_bio_photo\": \"Is a professional student photo and 1–2 sentence bio included?\",\n",
    "    \"presentation_polish\": \"Is the document polished, well-formatted, and web-publishable?\"\n",
    "}"
   ]
  },
  {
   "cell_type": "markdown",
   "metadata": {},
   "source": [
    " Extract text from PDF"
   ]
  },
  {
   "cell_type": "code",
   "execution_count": 4,
   "metadata": {},
   "outputs": [],
   "source": [
    "pdf_path = \"/Users/ziyaozhou/desktop/submissions/dasilvatheo_LATE_171930_14930244_HW A1.pdf\""
   ]
  },
  {
   "cell_type": "code",
   "execution_count": 5,
   "metadata": {},
   "outputs": [],
   "source": [
    "def extract_text_from_pdf(pdf_path):\n",
    "    print(f\" Extracting text from: {pdf_path}\")\n",
    "    text = \"\"\n",
    "    doc = fitz.open(pdf_path)\n",
    "    for page in doc:\n",
    "        text += page.get_text()\n",
    "    print(\" Extracted text from PDF\")\n",
    "    return text"
   ]
  },
  {
   "cell_type": "markdown",
   "metadata": {},
   "source": [
    " Extract images from PDF"
   ]
  },
  {
   "cell_type": "code",
   "execution_count": 6,
   "metadata": {},
   "outputs": [],
   "source": [
    "def extract_images_from_pdf(pdf_path, min_width=1200, save_folder=\"/Users/ziyaozhou/Desktop/XR_Lab/Extracted_images\"):\n",
    "    print(f\" Extracting images from: {pdf_path}\")\n",
    "    doc = fitz.open(pdf_path)\n",
    "    os.makedirs(save_folder, exist_ok=True)\n",
    "    image_data = []\n",
    "    for page_index in range(len(doc)):\n",
    "        page = doc[page_index]\n",
    "        images = page.get_images(full=True)\n",
    "        for img_index, img in enumerate(images):\n",
    "            xref = img[0]\n",
    "            base_image = doc.extract_image(xref)\n",
    "            image_bytes = base_image[\"image\"]\n",
    "            img_pil = Image.open(BytesIO(image_bytes))\n",
    "            width, height = img_pil.size\n",
    "            img_pil.save(os.path.join(save_folder, f\"page{page_index+1}_img{img_index+1}.png\"))\n",
    "            image_data.append({\n",
    "                \"page\": page_index + 1,\n",
    "                \"width\": width,\n",
    "                \"height\": height,\n",
    "                \"coordinates\": img[1:5],\n",
    "                \"image\": img_pil,\n",
    "                \"filename\": f\"page{page_index+1}_img{img_index+1}.png\",\n",
    "                \"is_high_res\": width >= min_width\n",
    "            })\n",
    "    print(f\" Extracted {len(image_data)} images\")\n",
    "    return image_data"
   ]
  },
  {
   "cell_type": "markdown",
   "metadata": {},
   "source": [
    "Match Image with Nearby Text"
   ]
  },
  {
   "cell_type": "code",
   "execution_count": 7,
   "metadata": {},
   "outputs": [],
   "source": [
    "def get_caption_candidates(text, image_data):\n",
    "    print(\"Scanning for image captions...\")\n",
    "    lines = text.split(\"\\n\")\n",
    "    results = []\n",
    "\n",
    "    for img in image_data:\n",
    "        context = {\n",
    "            \"page\": img[\"page\"],\n",
    "            \"image\": img[\"filename\"],\n",
    "            \"matched_caption\": \"\",\n",
    "            \"has_citation\": False,\n",
    "            \"has_building_name\": False,\n",
    "            \"has_interior_note\": False\n",
    "        }\n",
    "        for i, line in enumerate(lines):\n",
    "            if f\"{img['filename'].split('.')[0]}\" in line:\n",
    "                nearby_lines = lines[max(i-2, 0): i+3]\n",
    "                caption_text = \" \".join(nearby_lines)\n",
    "                context[\"matched_caption\"] = caption_text\n",
    "                context[\"has_citation\"] = any(x in caption_text.lower() for x in [\"source\", \"http\", \"photographer\"])\n",
    "                context[\"has_building_name\"] = bool(re.search(r\"(building|tower|museum|villa|house|center)\", caption_text, re.IGNORECASE))\n",
    "                context[\"has_interior_note\"] = bool(re.search(r\"(interior|lobby|hall|inside)\", caption_text, re.IGNORECASE))\n",
    "                break\n",
    "        results.append(context)\n",
    "    return results"
   ]
  },
  {
   "cell_type": "markdown",
   "metadata": {},
   "source": [
    "Evaluate Image Relevance, Building Match, and Attribution via Gemini"
   ]
  },
  {
   "cell_type": "code",
   "execution_count": 8,
   "metadata": {},
   "outputs": [],
   "source": [
    "def evaluate_images_with_gemini(image_data, architect_name, debug=False):\n",
    "    print(\" Evaluating image content and relevance using Gemini...\")\n",
    "    enriched_image_feedback = []\n",
    "\n",
    "    for img in tqdm(image_data, desc=\"Evaluating images\"):\n",
    "        prompt = f\"\"\"\n",
    "You are reviewing an image submitted for a university architecture project about {architect_name}.\n",
    "Please analyze this image and answer:\n",
    "\n",
    "1. Does this image show a building designed by {architect_name}? If yes, specify the building.\n",
    "2. Is this an interior or exterior shot?\n",
    "3. Does this image clearly show architectural features (e.g., lighting, geometry, layout)?\n",
    "4. How relevant is this image for an academic project about {architect_name}?\n",
    "\n",
    "Give your feedback in the following JSON format:\n",
    "{{\n",
    "  \"building_detected\": \"...\",\n",
    "  \"interior_or_exterior\": \"...\",\n",
    "  \"relevance_score\": \"x/10\",\n",
    "  \"justification\": \"...\",\n",
    "  \"architectural_features_visible\": true/false\n",
    "}}\n",
    "\"\"\"\n",
    "        try:\n",
    "            response = vision_model.generate_content([img[\"image\"], prompt])\n",
    "            if debug:\n",
    "                print(f\"Image {img['filename']} feedback:\\n\", response.text)\n",
    "            cleaned_text = response.text.strip()\n",
    "            if cleaned_text.startswith(\"```\"):\n",
    "                cleaned_text = re.sub(r\"```(?:json)?\", \"\", cleaned_text)\n",
    "                cleaned_text = cleaned_text.replace(\"```\", \"\").strip()\n",
    "\n",
    "            try:\n",
    "                data = json.loads(cleaned_text)\n",
    "            except Exception as e:\n",
    "                print(f\" Still failed to parse JSON from {img['filename']}: {e}\")\n",
    "                data = {\n",
    "                    \"building_detected\": \"Unknown\",\n",
    "                    \"interior_or_exterior\": \"Unknown\",\n",
    "                    \"relevance_score\": \"5/10\",\n",
    "                    \"justification\": \"Could not parse feedback from Gemini.\",\n",
    "                    \"architectural_features_visible\": False\n",
    "                }\n",
    "        except Exception as e:\n",
    "            print(f\"⚠️ Error processing {img['filename']}: {e}\")\n",
    "            data = {\n",
    "                \"building_detected\": \"Unknown\",\n",
    "                \"interior_or_exterior\": \"Unknown\",\n",
    "                \"relevance_score\": \"5/10\",\n",
    "                \"justification\": \"Could not extract structured feedback.\",\n",
    "                \"architectural_features_visible\": False\n",
    "            }\n",
    "\n",
    "        data.update({\n",
    "            \"filename\": img[\"filename\"],\n",
    "            \"page\": img[\"page\"],\n",
    "            \"width\": img[\"width\"],\n",
    "            \"height\": img[\"height\"],\n",
    "            \"is_high_res\": img[\"is_high_res\"]\n",
    "        })\n",
    "        enriched_image_feedback.append(data)\n",
    "    return enriched_image_feedback"
   ]
  },
  {
   "cell_type": "markdown",
   "metadata": {},
   "source": [
    "Score Image Citations and Structure Compliance"
   ]
  },
  {
   "cell_type": "code",
   "execution_count": 9,
   "metadata": {},
   "outputs": [],
   "source": [
    "def evaluate_image_structure_and_captions(image_feedback, caption_context):\n",
    "    print(\"Evaluating caption presence and structure\")\n",
    "\n",
    "    scores = []\n",
    "    per_image_feedback = []\n",
    "\n",
    "    for img in image_feedback:\n",
    "        caption = next((c for c in caption_context if c[\"image\"] == img[\"filename\"]), {})\n",
    "        has_citation = caption.get(\"has_citation\", False)\n",
    "        has_building_name = caption.get(\"has_building_name\", False)\n",
    "        has_interior_note = caption.get(\"has_interior_note\", False)\n",
    "\n",
    "        score = 0\n",
    "        if has_citation: score += 3\n",
    "        if has_building_name: score += 3\n",
    "        if has_interior_note: score += 2\n",
    "        if img[\"is_high_res\"]: score += 2\n",
    "\n",
    "        scores.append(score)\n",
    "        per_image_feedback.append({\n",
    "            \"image\": img[\"filename\"],\n",
    "            \"page\": img[\"page\"],\n",
    "            \"relevance_score\": img.get(\"relevance_score\", \"5/10\"),\n",
    "            \"justification\": img.get(\"justification\", \"\"),\n",
    "            \"caption_found\": caption.get(\"matched_caption\", \"\"),\n",
    "            \"has_proper_caption\": score >= 7,\n",
    "            \"score\": score\n",
    "        })\n",
    "\n",
    "    avg_score = sum(scores) / len(scores) if scores else 0\n",
    "    return {\n",
    "        \"score\": int((avg_score / 10) * rubric[\"image_citations\"]),\n",
    "        \"details\": per_image_feedback\n",
    "    }"
   ]
  },
  {
   "cell_type": "markdown",
   "metadata": {},
   "source": [
    "Gemini-Based Rubric Evaluation with Chain-of-Thought"
   ]
  },
  {
   "cell_type": "code",
   "execution_count": 10,
   "metadata": {},
   "outputs": [],
   "source": [
    "def gemini_detailed_rubric_eval(text, architect_name):\n",
    "    print(\" Gemini evaluating full rubric with explanations\")\n",
    "\n",
    "    prompt = f\"\"\"\n",
    "You are evaluating a student's architecture assignment on the architect {architect_name}.\n",
    "\n",
    "This is a formal submission for university credit. You are receiving the full document as **images**, so you can directly observe the formatting, embedded images, captions, structure, and layout.\n",
    "\n",
    "---\n",
    "\n",
    "###  How to Grade:\n",
    "\n",
    "- Be **fair and constructive**. If formatting is inconsistent, information is missing, or citations are weak, **please call it out clearly**.\n",
    "- Do not sugarcoat — students are expected to revise based on your feedback.\n",
    "- If something is strong, note it. If it's flawed, critique it.\n",
    "- When scoring, **prioritize**:\n",
    "  - Accuracy of academic citations\n",
    "  - Caption and image attribution clarity\n",
    "  - Clear distinction between interior vs exterior images\n",
    "  - Overall layout and visual professionalism\n",
    "\n",
    "---\n",
    "\n",
    "###  Additional Clarifications:\n",
    "\n",
    "-  Images are embedded (not just links)\n",
    "-  Captions below images include attribution (URLs or photographer names)\n",
    "-  A student photo and bio appear on Page 2\n",
    "-  Table of Contents is present\n",
    "-  10 buildings are described\n",
    "-  Redundant links are likely citations, not missing content\n",
    "\n",
    "---\n",
    "\n",
    "###  RUBRIC CRITERIA\n",
    "\n",
    "Please assess each of the following categories. For every criterion:\n",
    "\n",
    "1. Give a **detailed justification** (1–2 paragraphs)\n",
    "2. Assign a score **out of 5** based on the detailed rubric below\n",
    "\n",
    "Format:\n",
    "**[Category Name]**\n",
    "Justification: ...\n",
    "Score: x/5\n",
    "\n",
    "---\n",
    "\n",
    "###  Categories and Rubric Anchors\n",
    "\n",
    "**1. Architect Selection & Scope**\n",
    "- 5 = Clearly identifies one architect from Book Two, explicitly stated, on-topic\n",
    "- 3–4 = Identifies Book Two architect, but clarity or justification could improve\n",
    "- 1–2 = Architect unclear, off-topic, or not from Book Two\n",
    "\n",
    "**2. Organization & Document Setup**\n",
    "- 5 = Clear Table of Contents + labeled sections for bio, buildings, refs, student bio\n",
    "- 3–4 = Minor issues with layout or missing headers\n",
    "- 1–2 = Poor organization, missing sections, or hard to follow\n",
    "\n",
    "**3. Biographical Content (750 words)**\n",
    "- 5 = Covers who they are, achievements, education, significance, 1st building, typologies\n",
    "- 3–4 = Mostly complete, with slight omissions or light detail\n",
    "- 1–2 = Underdeveloped or below word count, missing major points\n",
    "\n",
    "**4. Citation of Architect Biography**\n",
    "- 5 = 5–10 academic references, correct APA formatting, includes DOIs and citation counts\n",
    "- 3–4 = APA errors or missing DOIs, but still academically relevant\n",
    "- 1–2 = Few or no academic references, poor or irrelevant sources\n",
    "\n",
    "**5. Selection & Quality of Images**\n",
    "- 5 = 10 buildings, 3+ exterior + 5+ interior per building, high-res\n",
    "- 3–4 = Most buildings meet criteria; a few lack resolution or quantity\n",
    "- 1–2 = Many buildings missing images or poor quality\n",
    "\n",
    "**6. Image Citation & Attribution**\n",
    "- 5 = Every image has clear, consistent source or photographer citation\n",
    "- 3–4 = Most are cited but with some inconsistencies\n",
    "- 1–2 = Citations mostly missing, inconsistent, or improperly formatted\n",
    "\n",
    "**7. Coverage of 10 Famous Buildings**\n",
    "- 5 = All 10 named + location + significance statement (1–2 sentences)\n",
    "- 3–4 = Buildings listed but some lack significance or location\n",
    "- 1–2 = Several missing or incomplete building descriptions\n",
    "\n",
    "**8. Image Relevance**\n",
    "- 5 = All images relate directly to described buildings, match descriptions, show architectural value\n",
    "- 3–4 = Most images relevant, some generic or misaligned\n",
    "- 1–2 = Several images are off-topic or not associated with described buildings\n",
    "\n",
    "**9. Personal Bio & Photo**\n",
    "- 5 = Professional photo and bio (1–2 sentences), correctly placed after TOC\n",
    "- 3–4 = Present but minor formatting/image issues\n",
    "- 1–2 = Photo or bio is low quality, misplaced, or absent\n",
    "\n",
    "**10. Overall Completeness & Presentation**\n",
    "- 5 = Fully polished, clean layout, minimal repetition, suitable for web/publication\n",
    "- 3–4 = Clear submission, but lacks design polish or has formatting repetition\n",
    "- 1–2 = Sloppy or rushed presentation; visual issues hurt readability\n",
    "\n",
    "---\n",
    "\n",
    " Please start your rubric-based analysis below:\n",
    "\"\"\"\n",
    "\n",
    "    doc = fitz.open(pdf_path)\n",
    "    all_pages_as_images = [page.get_pixmap(dpi=300).pil_tobytes(\"png\") for page in doc]\n",
    "    response = vision_model.generate_content(\n",
    "         [prompt] + [Image.open(BytesIO(img_bytes)) for img_bytes in all_pages_as_images]\n",
    "      )\n",
    "\n",
    "    print(response.text)\n",
    "\n",
    "    def extract_score(label, out_of):\n",
    "        match = re.search(label + r\".*?Score:\\s*(\\d+)/\" + str(out_of), response.text, re.IGNORECASE | re.DOTALL)\n",
    "        return int(match.group(1)) if match else 0\n",
    "\n",
    "    return {\n",
    "        \"architect_chosen\": {\"score\": extract_score(\"Architect Selection\", 5)},\n",
    "        \"doc_and_slides\": {\"score\": extract_score(\"Organization\", 5)},\n",
    "        \"bio_750_words\": {\"score\": extract_score(\"Biographical Content\", 5)},\n",
    "        \"bio_structure\": {\"score\": extract_score(\"Biographical Structure\", 5)},\n",
    "        \"bio_references\": {\"score\": extract_score(\"Citation of Architect Biography\", 5)},\n",
    "        \"10_buildings_with_images\": {\"score\": extract_score(\"Coverage of 10 Famous Buildings\", 5)},\n",
    "        \"image_quality\": {\"score\": extract_score(\"Selection & Quality of Images\", 5)},\n",
    "        \"image_citations\": {\"score\": extract_score(\"Image Citation & Attribution\", 5)},\n",
    "        \"image_relevance\": {\"score\": extract_score(\"Image Relevance\", 5)},\n",
    "        \"personal_bio_photo\": {\"score\": extract_score(\"Personal Bio\", 5)},\n",
    "        \"presentation_polish\": {\"score\": extract_score(\"Presentation Polish\", 5)},\n",
    "    }"
   ]
  },
  {
   "cell_type": "markdown",
   "metadata": {},
   "source": [
    "Final Aggregator + Full Diagnostic Report"
   ]
  },
  {
   "cell_type": "code",
   "execution_count": 11,
   "metadata": {},
   "outputs": [],
   "source": [
    "# def generate_detailed_scorecard(scores, image_caption_details=None):\n",
    "#     print(\" Compiling final scorecard\")\n",
    "\n",
    "#     # Total and max only for defined rubric keys\n",
    "#     total = sum([scores[k][\"score\"] for k in scores if k in rubric])\n",
    "#     max_total = sum([rubric[k] for k in scores if k in rubric])\n",
    "#     final_percentage = (total / max_total) * 100 if max_total else 0\n",
    "\n",
    "#     grade = \"A\" if final_percentage >= 50 else \"B\" if final_percentage >= 46 else \"C\" if final_percentage >= 42 else \"D\"\n",
    "\n",
    "#     # print(f\"Final Grade: {grade} ({round(final_percentage, 2)}%)\")\n",
    "#     rubric_table = pd.DataFrame([\n",
    "#         {\n",
    "#             \"Criterion\": k.replace(\"_\", \" \").title(),\n",
    "#             \"Score\": scores[k][\"score\"],\n",
    "#             \"Max\": rubric[k],\n",
    "#             \"Description\": rubric_descriptions.get(k, \"\")\n",
    "#         }\n",
    "#         for k in rubric if k in scores\n",
    "#     ])\n",
    "#     display(rubric_table)\n",
    "#     if image_caption_details:\n",
    "#         print(\"\\n Image Caption & Relevance Feedback:\")\n",
    "#         df = pd.DataFrame(image_caption_details[\"details\"])\n",
    "#         display(df)\n",
    "\n",
    "#     return {\n",
    "#         \"rubric_scores\": {k: scores[k][\"score\"] for k in rubric if k in scores},\n",
    "#         \"final_percent\": round(final_percentage, 2),\n",
    "#         \"grade\": grade,\n",
    "#         \"image_feedback_table\": image_caption_details\n",
    "#     }\n",
    "\n",
    "def generate_detailed_scorecard(scores, image_caption_details=None):\n",
    "    print(\" Compiling final scorecard\")\n",
    "\n",
    "    # Total and max only for defined rubric keys\n",
    "    total = sum([scores[k][\"score\"] for k in scores if k in rubric])\n",
    "    max_total = sum([rubric[k] for k in scores if k in rubric])\n",
    "    final_percentage = (total / max_total) * 100 if max_total else 0\n",
    "\n",
    "    grade = \"A\" if final_percentage >= 50 else \"B\" if final_percentage >= 46 else \"C\" if final_percentage >= 42 else \"D\"\n",
    "\n",
    "    # print(f\"Final Grade: {grade} ({round(final_percentage, 2)}%)\")\n",
    "    rubric_table = pd.DataFrame([\n",
    "        {\n",
    "            \"Criterion\": k.replace(\"_\", \" \").title(),\n",
    "            \"Score\": scores[k][\"score\"],\n",
    "            \"Max\": rubric[k],\n",
    "            \"Description\": rubric_descriptions.get(k, \"\")\n",
    "        }\n",
    "        for k in rubric if k in scores\n",
    "    ])\n",
    "    return rubric_table"
   ]
  },
  {
   "cell_type": "code",
   "execution_count": 12,
   "metadata": {},
   "outputs": [],
   "source": [
    "def extract_references_from_text(text):\n",
    "    print(\" Extracting references from text\")\n",
    "    lines = text.split(\"\\n\")\n",
    "    references = []\n",
    "    for line in lines:\n",
    "        if re.search(r\"\\(\\d{4}\\)\", line) and any(x in line.lower() for x in [\"doi\", \"archdaily\", \"e-architect\", \"https://\", \"http://\"]):\n",
    "            references.append(line.strip())\n",
    "    return references\n"
   ]
  },
  {
   "cell_type": "code",
   "execution_count": 13,
   "metadata": {},
   "outputs": [],
   "source": [
    "def evaluate_biography(text):\n",
    "    print(\" Evaluating biography: checking word count and required sections\")\n",
    "    result = {}\n",
    "    doc = nlp(text)\n",
    "    result[\"word_count\"] = len([token.text for token in doc if token.is_alpha])\n",
    "\n",
    "    required_sections = [\n",
    "        \"who they are\",\n",
    "        \"famous for\",\n",
    "        \"studied\",\n",
    "        \"significance\",\n",
    "        \"influence\",\n",
    "        \"types of buildings\",\n",
    "        \"first building\"\n",
    "    ]\n",
    "\n",
    "    section_hits = sum([1 for section in required_sections if section.lower() in text.lower()])\n",
    "    result[\"structure_score\"] = int((section_hits / len(required_sections)) * rubric[\"bio_structure\"])\n",
    "    result[\"score\"] = rubric[\"bio_750_words\"] if result[\"word_count\"] >= 700 else int((result[\"word_count\"] / 750) * rubric[\"bio_750_words\"])\n",
    "\n",
    "    return result\n"
   ]
  },
  {
   "cell_type": "code",
   "execution_count": 14,
   "metadata": {},
   "outputs": [],
   "source": [
    "def evaluate_image_quality(image_data):\n",
    "    print(\" Evaluating image resolution\")\n",
    "    high_res_count = sum(1 for img in image_data if img[\"is_high_res\"])\n",
    "    total_images = len(image_data)\n",
    "    \n",
    "    quality_score = int((high_res_count / max(1, total_images)) * rubric[\"image_quality\"])\n",
    "    \n",
    "    print(f\" {high_res_count}/{total_images} images are high resolution\")\n",
    "    return {\"high_res_count\": high_res_count, \"score\": quality_score}"
   ]
  },
  {
   "cell_type": "markdown",
   "metadata": {},
   "source": [
    "Main Runner Pipeline"
   ]
  },
  {
   "cell_type": "code",
   "execution_count": 18,
   "metadata": {},
   "outputs": [],
   "source": [
    "# def run_autograder_full(pdf_path, architect_name=\"Bjarke Ingels\", debug=False):\n",
    "#     print(\"Starting full grading pipeline\")\n",
    "#     text = extract_text_from_pdf(pdf_path)\n",
    "#     images = extract_images_from_pdf(pdf_path)\n",
    "#     references = extract_references_from_text(text)\n",
    "#     image_caption_context = get_caption_candidates(text, images)\n",
    "#     enriched_feedback = evaluate_images_with_gemini(images, architect_name, debug)\n",
    "#     image_caption_score = evaluate_image_structure_and_captions(enriched_feedback, image_caption_context)\n",
    "#     gemini_scores = gemini_detailed_rubric_eval(text, architect_name)\n",
    "#     manual_scores = {}\n",
    "#     renamed_gemini = {\n",
    "#         \"architect_chosen\": gemini_scores[\"architect_chosen\"],\n",
    "#         \"doc_and_slides\": gemini_scores[\"doc_and_slides\"],\n",
    "#         \"personal_bio_photo\": gemini_scores[\"personal_bio_photo\"],\n",
    "#         \"presentation_polish\": gemini_scores[\"presentation_polish\"]\n",
    "#     }\n",
    "#     all_scores = {**manual_scores, **renamed_gemini}\n",
    "#     result = generate_detailed_scorecard(all_scores, image_caption_score)\n",
    "#     return result\n",
    "\n",
    "def run_autograder_full(pdf_path, architect_name=\"Bjarke Ingels\", debug=False):\n",
    "    print(\"Starting full grading pipeline\")\n",
    "    text = extract_text_from_pdf(pdf_path)\n",
    "    images = extract_images_from_pdf(pdf_path)\n",
    "    references = extract_references_from_text(text)\n",
    "    image_caption_context = get_caption_candidates(text, images)\n",
    "    enriched_feedback = evaluate_images_with_gemini(images, architect_name, debug)\n",
    "    image_caption_score = evaluate_image_structure_and_captions(enriched_feedback, image_caption_context)\n",
    "    gemini_scores = gemini_detailed_rubric_eval(text, architect_name)\n",
    "    manual_scores = {}\n",
    "    renamed_gemini = {\n",
    "        \"architect_chosen\":           gemini_scores[\"architect_chosen\"],\n",
    "        \"doc_and_slides\":             gemini_scores[\"doc_and_slides\"],\n",
    "        \"bio_750_words\":              gemini_scores[\"bio_750_words\"],\n",
    "        \"bio_structure\":              gemini_scores[\"bio_structure\"],\n",
    "        \"bio_references\":             gemini_scores[\"bio_references\"],\n",
    "        \"10_buildings_with_images\":   gemini_scores[\"10_buildings_with_images\"],\n",
    "        \"image_quality\":              gemini_scores[\"image_quality\"],\n",
    "        \"image_citations\":            gemini_scores[\"image_citations\"],\n",
    "        \"image_relevance\":            gemini_scores[\"image_relevance\"],\n",
    "        \"personal_bio_photo\":         gemini_scores[\"personal_bio_photo\"],\n",
    "        \"presentation_polish\":        gemini_scores[\"presentation_polish\"],\n",
    "    }\n",
    "    all_scores = {**manual_scores, **renamed_gemini}\n",
    "    result = generate_detailed_scorecard(all_scores, image_caption_score)\n",
    "    return result"
   ]
  },
  {
   "cell_type": "markdown",
   "metadata": {},
   "source": [
    "Run "
   ]
  },
  {
   "cell_type": "code",
   "execution_count": 19,
   "metadata": {},
   "outputs": [
    {
     "name": "stdout",
     "output_type": "stream",
     "text": [
      "Starting full grading pipeline\n",
      " Extracting text from: /Users/ziyaozhou/desktop/submissions/dasilvatheo_LATE_171930_14930244_HW A1.pdf\n",
      " Extracted text from PDF\n",
      " Extracting images from: /Users/ziyaozhou/desktop/submissions/dasilvatheo_LATE_171930_14930244_HW A1.pdf\n",
      " Extracted 76 images\n",
      " Extracting references from text\n",
      "Scanning for image captions...\n",
      " Evaluating image content and relevance using Gemini...\n"
     ]
    },
    {
     "name": "stderr",
     "output_type": "stream",
     "text": [
      "Evaluating images:   1%|▏         | 1/76 [00:02<03:11,  2.55s/it]"
     ]
    },
    {
     "name": "stdout",
     "output_type": "stream",
     "text": [
      "Image page1_img1.png feedback:\n",
      " ```json\n",
      "{\n",
      "  \"building_detected\": \"No\",\n",
      "  \"interior_or_exterior\": \"N/A\",\n",
      "  \"relevance_score\": \"1/10\",\n",
      "  \"justification\": \"The image shows a person wearing a graduation cap and gown, likely related to a graduation ceremony. It does not depict any architectural structure, let alone one designed by Bjarke Ingels. It is highly irrelevant to an architecture project about Bjarke Ingels.\",\n",
      "  \"architectural_features_visible\": false\n",
      "}\n",
      "```\n"
     ]
    },
    {
     "name": "stderr",
     "output_type": "stream",
     "text": [
      "Evaluating images:   3%|▎         | 2/76 [00:04<02:55,  2.37s/it]"
     ]
    },
    {
     "name": "stdout",
     "output_type": "stream",
     "text": [
      "Image page8_img1.png feedback:\n",
      " ```json\n",
      "{\n",
      "  \"building_detected\": \"No\",\n",
      "  \"interior_or_exterior\": \"Interior\",\n",
      "  \"relevance_score\": \"1/10\",\n",
      "  \"justification\": \"The image shows the interior of the Cathedral of Brasília, designed by Oscar Niemeyer, not Bjarke Ingels. Thus, it is not relevant to a project about Bjarke Ingels' architecture. Architectural features are clearly visible (roof structure, layout, sculptures), but they're relevant to Niemeyer, not Ingels.\",\n",
      "  \"architectural_features_visible\": true\n",
      "}\n",
      "```\n"
     ]
    },
    {
     "name": "stderr",
     "output_type": "stream",
     "text": [
      "Evaluating images:   4%|▍         | 3/76 [00:07<02:52,  2.37s/it]"
     ]
    },
    {
     "name": "stdout",
     "output_type": "stream",
     "text": [
      "Image page9_img1.png feedback:\n",
      " {\"building_detected\": \"No\", \"interior_or_exterior\": \"Interior\", \"relevance_score\": \"1/10\", \"justification\": \"The building in this image is the Cathedral of Brasilia, designed by Oscar Niemeyer. It has nothing to do with Bjarke Ingels. This image is not relevant for a project on Bjarke Ingels. The image does showcase prominent architectural features, like the geometry of the roof, the use of stained glass, and the layout of the space.\", \"architectural_features_visible\": true}\n"
     ]
    },
    {
     "name": "stderr",
     "output_type": "stream",
     "text": [
      "Evaluating images:   5%|▌         | 4/76 [00:08<02:35,  2.16s/it]"
     ]
    },
    {
     "name": "stdout",
     "output_type": "stream",
     "text": [
      "Image page9_img2.png feedback:\n",
      " ```json\n",
      "{\n",
      "  \"building_detected\": \"Cathedral of Brasília\",\n",
      "  \"interior_or_exterior\": \"exterior\",\n",
      "  \"relevance_score\": \"1/10\",\n",
      "  \"justification\": \"The image shows the Cathedral of Brasília, designed by Oscar Niemeyer, not Bjarke Ingels. Therefore, it is not relevant to a project about Bjarke Ingels.\",\n",
      "  \"architectural_features_visible\": true\n",
      "}\n",
      "```\n"
     ]
    },
    {
     "name": "stderr",
     "output_type": "stream",
     "text": [
      "Evaluating images:   7%|▋         | 5/76 [00:10<02:17,  1.93s/it]"
     ]
    },
    {
     "name": "stdout",
     "output_type": "stream",
     "text": [
      "Image page10_img1.png feedback:\n",
      " {\"building_detected\": \"No\",\n",
      "  \"interior_or_exterior\": \"Exterior\",\n",
      "  \"relevance_score\": \"1/10\",\n",
      "  \"justification\": \"This image shows the Cathedral of Brasilia designed by Oscar Niemeyer, not a building by Bjarke Ingels. Therefore, it is not relevant for an academic project about Bjarke Ingels.\",\n",
      "  \"architectural_features_visible\": true\n",
      "}\n"
     ]
    },
    {
     "name": "stderr",
     "output_type": "stream",
     "text": [
      "Evaluating images:   8%|▊         | 6/76 [00:11<02:03,  1.77s/it]"
     ]
    },
    {
     "name": "stdout",
     "output_type": "stream",
     "text": [
      "Image page10_img2.png feedback:\n",
      " ```json\n",
      "{\n",
      "  \"building_detected\": \"Brasilia Cathedral\",\n",
      "  \"interior_or_exterior\": \"Exterior\",\n",
      "  \"relevance_score\": \"0/10\",\n",
      "  \"justification\": \"The image shows the Brasilia Cathedral, which was designed by Oscar Niemeyer, not Bjarke Ingels. Therefore, it is irrelevant for a project about Bjarke Ingels.\",\n",
      "  \"architectural_features_visible\": true\n",
      "}\n",
      "```\n"
     ]
    },
    {
     "name": "stderr",
     "output_type": "stream",
     "text": [
      "Evaluating images:   9%|▉         | 7/76 [00:14<02:17,  1.99s/it]"
     ]
    },
    {
     "name": "stdout",
     "output_type": "stream",
     "text": [
      "Image page11_img1.png feedback:\n",
      " {\"building_detected\": \"No\", \"interior_or_exterior\": \"exterior\", \"relevance_score\": \"1/10\", \"justification\": \"The image shows the Cathedral of Brasília, designed by Oscar Niemeyer, not Bjarke Ingels. The architectural features (geometry, structural elements) are visible. Thus, the image has low relevance for a project focused on Bjarke Ingels' work.\", \"architectural_features_visible\": true}\n"
     ]
    },
    {
     "name": "stderr",
     "output_type": "stream",
     "text": [
      "Evaluating images:  11%|█         | 8/76 [00:16<02:09,  1.91s/it]"
     ]
    },
    {
     "name": "stdout",
     "output_type": "stream",
     "text": [
      "Image page11_img2.png feedback:\n",
      " ```json\n",
      "{\n",
      "  \"building_detected\": \"São Francisco de Assis Church, Pampulha\",\n",
      "  \"interior_or_exterior\": \"Exterior\",\n",
      "  \"relevance_score\": \"1/10\",\n",
      "  \"justification\": \"The building is the São Francisco de Assis Church, Pampulha, designed by Oscar Niemeyer. This image is irrelevant to a project about Bjarke Ingels.\",\n",
      "  \"architectural_features_visible\": true\n",
      "}\n",
      "```\n"
     ]
    },
    {
     "name": "stderr",
     "output_type": "stream",
     "text": [
      "Evaluating images:  12%|█▏        | 9/76 [00:18<02:10,  1.95s/it]"
     ]
    },
    {
     "name": "stdout",
     "output_type": "stream",
     "text": [
      "Image page12_img1.png feedback:\n",
      " {\"building_detected\": \"No\", \"interior_or_exterior\": \"Interior\", \"relevance_score\": \"1/10\", \"justification\": \"This image does not depict any recognizable building designed by Bjarke Ingels. The interior space has architectural elements, but they are not associated with Ingels' work. The wall mural and tilework are not typical of his designs.\", \"architectural_features_visible\": true}\n"
     ]
    },
    {
     "name": "stderr",
     "output_type": "stream",
     "text": [
      "Evaluating images:  13%|█▎        | 10/76 [00:21<02:31,  2.30s/it]"
     ]
    },
    {
     "name": "stdout",
     "output_type": "stream",
     "text": [
      "Image page12_img2.png feedback:\n",
      " {\"building_detected\": \"No\", \"interior_or_exterior\": \"Exterior\", \"relevance_score\": \"1/10\", \"justification\": \"This image does not show a building designed by Bjarke Ingels. The architectural style is different and not representative of his designs. The building appears to be the Pombahila Palace in Brazil designed by Oscar Niemeyer, which is not relevant to a project about Bjarke Ingels.\", \"architectural_features_visible\": true}\n"
     ]
    },
    {
     "name": "stderr",
     "output_type": "stream",
     "text": [
      "Evaluating images:  14%|█▍        | 11/76 [00:23<02:35,  2.40s/it]"
     ]
    },
    {
     "name": "stdout",
     "output_type": "stream",
     "text": [
      "Image page13_img1.png feedback:\n",
      " ```json\n",
      "{\n",
      "  \"building_detected\": \"No\",\n",
      "  \"interior_or_exterior\": \"Exterior\",\n",
      "  \"relevance_score\": \"1/10\",\n",
      "  \"justification\": \"The building in the image is not designed by Bjarke Ingels. It appears to be the Church of Saint Francis of Assisi in Pampulha, Brazil, designed by Oscar Niemeyer. Thus, the image is not relevant to a project about Bjarke Ingels.\",\n",
      "  \"architectural_features_visible\": true\n",
      "}\n",
      "```\n"
     ]
    },
    {
     "name": "stderr",
     "output_type": "stream",
     "text": [
      "Evaluating images:  16%|█▌        | 12/76 [00:25<02:25,  2.27s/it]"
     ]
    },
    {
     "name": "stdout",
     "output_type": "stream",
     "text": [
      "Image page13_img2.png feedback:\n",
      " ```json\n",
      "{\n",
      "  \"building_detected\": \"Casa da Cultura (House of Culture) in Paraty, Brazil by Studio MK27\",\n",
      "  \"interior_or_exterior\": \"Interior\",\n",
      "  \"relevance_score\": \"2/10\",\n",
      "  \"justification\": \"This image is not relevant to Bjarke Ingels as it shows a building designed by Studio MK27. While it is architecturally interesting and shows interior features, it doesn't align with the stated project's focus.\",\n",
      "  \"architectural_features_visible\": true\n",
      "}\n",
      "```\n"
     ]
    },
    {
     "name": "stderr",
     "output_type": "stream",
     "text": [
      "Evaluating images:  17%|█▋        | 13/76 [00:28<02:32,  2.42s/it]"
     ]
    },
    {
     "name": "stdout",
     "output_type": "stream",
     "text": [
      "Image page14_img1.png feedback:\n",
      " ```json\n",
      "{\n",
      "  \"building_detected\": \"No\",\n",
      "  \"interior_or_exterior\": \"Interior\",\n",
      "  \"relevance_score\": \"2/10\",\n",
      "  \"justification\": \"The image depicts the interior of a church, specifically the Igreja de São Francisco de Assis in Pampulha, Brazil. This church was designed by Oscar Niemeyer, not Bjarke Ingels.  Therefore, it has low relevance for a project focused on Bjarke Ingels. While the image shows the layout, artwork, and seating arrangement, it doesn't align with the architectural subject.\",\n",
      "  \"architectural_features_visible\": true\n",
      "}\n",
      "```\n"
     ]
    },
    {
     "name": "stderr",
     "output_type": "stream",
     "text": [
      "Evaluating images:  18%|█▊        | 14/76 [00:32<02:50,  2.74s/it]"
     ]
    },
    {
     "name": "stdout",
     "output_type": "stream",
     "text": [
      "Image page14_img2.png feedback:\n",
      " ```json\n",
      "{\n",
      "  \"building_detected\": \"No\",\n",
      "  \"interior_or_exterior\": \"Interior\",\n",
      "  \"relevance_score\": \"1/10\",\n",
      "  \"justification\": \"The image does not depict a building designed by Bjarke Ingels. It shows the interior of what appears to be a building with curved architectural elements. It does not align with the common characteristics of BIG's design.\",\n",
      "  \"architectural_features_visible\": true\n",
      "}\n",
      "```\n"
     ]
    },
    {
     "name": "stderr",
     "output_type": "stream",
     "text": [
      "Evaluating images:  20%|█▉        | 15/76 [00:34<02:40,  2.63s/it]"
     ]
    },
    {
     "name": "stdout",
     "output_type": "stream",
     "text": [
      "Image page15_img1.png feedback:\n",
      " {\"building_detected\": \"No\",\n",
      "  \"interior_or_exterior\": \"Interior\",\n",
      "  \"relevance_score\": \"1/10\",\n",
      "  \"justification\": \"The image does not depict any building designed by Bjarke Ingels. It shows the interior of a building with a gold-tiled wall, which doesn't align with BIG's architectural style. Therefore, the image is not relevant to an academic project about Bjarke Ingels.\",\n",
      "  \"architectural_features_visible\": true\n",
      "}\n"
     ]
    },
    {
     "name": "stderr",
     "output_type": "stream",
     "text": [
      "Evaluating images:  21%|██        | 16/76 [00:38<03:04,  3.08s/it]"
     ]
    },
    {
     "name": "stdout",
     "output_type": "stream",
     "text": [
      "Image page15_img2.png feedback:\n",
      " ```json\n",
      "{\n",
      "  \"building_detected\": \"No\",\n",
      "  \"interior_or_exterior\": \"Interior\",\n",
      "  \"relevance_score\": \"1/10\",\n",
      "  \"justification\": \"This image does not appear to be a building designed by Bjarke Ingels. The architectural style is very different from his designs. The architecture in this picture is reminiscent of Oscar Niemeyer and likely taken inside the Planalto Palace in Brasilia. Therefore, it is not relevant for a project about Bjarke Ingels.\",\n",
      "  \"architectural_features_visible\": true\n",
      "}\n",
      "```\n"
     ]
    },
    {
     "name": "stderr",
     "output_type": "stream",
     "text": [
      "Evaluating images:  22%|██▏       | 17/76 [00:40<02:37,  2.67s/it]"
     ]
    },
    {
     "name": "stdout",
     "output_type": "stream",
     "text": [
      "Image page16_img1.png feedback:\n",
      " {\"building_detected\": \"No\",\n",
      "  \"interior_or_exterior\": \"Interior\",\n",
      "  \"relevance_score\": \"1/10\",\n",
      "  \"justification\": \"This image shows the interior of a library or office space, but it does not appear to be designed by Bjarke Ingels. It is more likely to be a traditional library setting, with a large collection of books and classic furniture. Bjarke Ingels is known for more contemporary and innovative designs.\",\n",
      "  \"architectural_features_visible\": true\n",
      "}\n"
     ]
    },
    {
     "name": "stderr",
     "output_type": "stream",
     "text": [
      "Evaluating images:  24%|██▎       | 18/76 [00:44<02:57,  3.07s/it]"
     ]
    },
    {
     "name": "stdout",
     "output_type": "stream",
     "text": [
      "Image page16_img2.png feedback:\n",
      " ```json\n",
      "{\n",
      "  \"building_detected\": \"No\",\n",
      "  \"interior_or_exterior\": \"Interior\",\n",
      "  \"relevance_score\": \"1/10\",\n",
      "  \"justification\": \"The image depicts an interior space with large windows looking out onto a landscape. The architectural style is not characteristic of Bjarke Ingels' work. It appears to be a modernist building, potentially by Oscar Niemeyer based on the visual cues (columns and curves in the facade). Hence, it is not relevant to a project about Bjarke Ingels.\",\n",
      "  \"architectural_features_visible\": true\n",
      "}\n",
      "```\n"
     ]
    },
    {
     "name": "stderr",
     "output_type": "stream",
     "text": [
      "Evaluating images:  25%|██▌       | 19/76 [00:47<02:51,  3.00s/it]"
     ]
    },
    {
     "name": "stdout",
     "output_type": "stream",
     "text": [
      "Image page17_img1.png feedback:\n",
      " ```json\n",
      "{\n",
      "  \"building_detected\": \"No\",\n",
      "  \"interior_or_exterior\": \"Interior\",\n",
      "  \"relevance_score\": \"1/10\",\n",
      "  \"justification\": \"This image does not appear to show any building designed by Bjarke Ingels. While it is an interior shot with some architectural features visible, it lacks any discernible elements associated with Ingels' design style. The image depicts a formal room with a long table, chairs, and a unique lighting fixture, but the style is not reminiscent of his projects. Therefore, its relevance to a project about Bjarke Ingels is very low.\",\n",
      "  \"architectural_features_visible\": true\n",
      "}\n",
      "```\n"
     ]
    },
    {
     "name": "stderr",
     "output_type": "stream",
     "text": [
      "Evaluating images:  26%|██▋       | 20/76 [00:49<02:37,  2.81s/it]"
     ]
    },
    {
     "name": "stdout",
     "output_type": "stream",
     "text": [
      "Image page17_img2.png feedback:\n",
      " ```json\n",
      "{\n",
      "  \"building_detected\": \"No. This is the Palácio da Alvorada in Brasília, Brazil designed by Oscar Niemeyer.\",\n",
      "  \"interior_or_exterior\": \"Exterior\",\n",
      "  \"relevance_score\": \"0/10\",\n",
      "  \"justification\": \"This image depicts a building designed by Oscar Niemeyer, not Bjarke Ingels. Therefore, it is completely irrelevant to an academic project about Bjarke Ingels.\",\n",
      "  \"architectural_features_visible\": true\n",
      "}\n",
      "```\n"
     ]
    },
    {
     "name": "stderr",
     "output_type": "stream",
     "text": [
      "Evaluating images:  28%|██▊       | 21/76 [00:51<02:21,  2.58s/it]"
     ]
    },
    {
     "name": "stdout",
     "output_type": "stream",
     "text": [
      "Image page18_img1.png feedback:\n",
      " ```json\n",
      "{\n",
      "  \"building_detected\": \"No\",\n",
      "  \"interior_or_exterior\": \"Exterior\",\n",
      "  \"relevance_score\": \"1/10\",\n",
      "  \"justification\": \"The building in the image is not designed by Bjarke Ingels. It is the Palácio da Alvorada, designed by Oscar Niemeyer in Brasilia. Therefore, the image is not relevant to an academic project about Bjarke Ingels.\",\n",
      "  \"architectural_features_visible\": true\n",
      "}\n",
      "```\n"
     ]
    },
    {
     "name": "stderr",
     "output_type": "stream",
     "text": [
      "Evaluating images:  29%|██▉       | 22/76 [00:53<02:12,  2.45s/it]"
     ]
    },
    {
     "name": "stdout",
     "output_type": "stream",
     "text": [
      "Image page18_img2.png feedback:\n",
      " ```json\n",
      "{\n",
      "  \"building_detected\": \"No\",\n",
      "  \"interior_or_exterior\": \"Exterior\",\n",
      "  \"relevance_score\": \"1/10\",\n",
      "  \"justification\": \"The building depicted in the image is not designed by Bjarke Ingels. It appears to be the Palácio da Alvorada in Brasilia, Brazil, designed by Oscar Niemeyer. Therefore, the image is not relevant to an academic project about Bjarke Ingels.\",\n",
      "  \"architectural_features_visible\": true\n",
      "}\n",
      "```\n"
     ]
    },
    {
     "name": "stderr",
     "output_type": "stream",
     "text": [
      "Evaluating images:  30%|███       | 23/76 [00:55<02:00,  2.27s/it]"
     ]
    },
    {
     "name": "stdout",
     "output_type": "stream",
     "text": [
      "Image page19_img1.png feedback:\n",
      " ```json\n",
      "{\n",
      "  \"building_detected\": \"Brazilian National Congress\",\n",
      "  \"interior_or_exterior\": \"exterior\",\n",
      "  \"relevance_score\": \"1/10\",\n",
      "  \"justification\": \"This image shows the Brazilian National Congress in Brasilia, designed by Oscar Niemeyer. It has absolutely no relevance to an architectural project about Bjarke Ingels.\",\n",
      "  \"architectural_features_visible\": true\n",
      "}\n",
      "```\n"
     ]
    },
    {
     "name": "stderr",
     "output_type": "stream",
     "text": [
      "Evaluating images:  32%|███▏      | 24/76 [00:58<02:06,  2.43s/it]"
     ]
    },
    {
     "name": "stdout",
     "output_type": "stream",
     "text": [
      "Image page19_img2.png feedback:\n",
      " ```json\n",
      "{\n",
      "  \"building_detected\": \"National Congress of Brazil\",\n",
      "  \"interior_or_exterior\": \"Exterior\",\n",
      "  \"relevance_score\": \"1/10\",\n",
      "  \"justification\": \"The National Congress of Brazil was designed by Oscar Niemeyer, not Bjarke Ingels. Therefore, it is not relevant to an academic project about Bjarke Ingels.\",\n",
      "  \"architectural_features_visible\": true\n",
      "}\n",
      "```\n"
     ]
    },
    {
     "name": "stderr",
     "output_type": "stream",
     "text": [
      "Evaluating images:  33%|███▎      | 25/76 [01:01<02:17,  2.70s/it]"
     ]
    },
    {
     "name": "stdout",
     "output_type": "stream",
     "text": [
      "Image page20_img1.png feedback:\n",
      " ```json\n",
      "{\n",
      "  \"building_detected\": \"No\",\n",
      "  \"interior_or_exterior\": \"Exterior\",\n",
      "  \"relevance_score\": \"0/10\",\n",
      "  \"justification\": \"This image depicts the National Congress of Brazil in Brasília, designed by Oscar Niemeyer. It is not related to the work of Bjarke Ingels.\",\n",
      "  \"architectural_features_visible\": true\n",
      "}\n",
      "```\n"
     ]
    },
    {
     "name": "stderr",
     "output_type": "stream",
     "text": [
      "Evaluating images:  34%|███▍      | 26/76 [01:04<02:20,  2.81s/it]"
     ]
    },
    {
     "name": "stdout",
     "output_type": "stream",
     "text": [
      "Image page20_img2.png feedback:\n",
      " ```json\n",
      "{\n",
      "  \"building_detected\": \"No\",\n",
      "  \"interior_or_exterior\": \"Interior\",\n",
      "  \"relevance_score\": \"1/10\",\n",
      "  \"justification\": \"This image shows the interior of the National Congress of Brazil, designed by Oscar Niemeyer. It has nothing to do with Bjarke Ingels. Therefore, the image has extremely low relevance for an academic project about Bjarke Ingels.\",\n",
      "  \"architectural_features_visible\": true\n",
      "}\n",
      "```\n"
     ]
    },
    {
     "name": "stderr",
     "output_type": "stream",
     "text": [
      "Evaluating images:  36%|███▌      | 27/76 [01:08<02:25,  2.96s/it]"
     ]
    },
    {
     "name": "stdout",
     "output_type": "stream",
     "text": [
      "Image page21_img1.png feedback:\n",
      " {\"building_detected\": \"No\", \"interior_or_exterior\": \"Exterior\", \"relevance_score\": \"1/10\", \"justification\": \"The building in the image is the National Congress of Brazil, designed by Oscar Niemeyer, not Bjarke Ingels. Therefore, the image is not relevant to a project about Bjarke Ingels.\", \"architectural_features_visible\": true}\n"
     ]
    },
    {
     "name": "stderr",
     "output_type": "stream",
     "text": [
      "Evaluating images:  37%|███▋      | 28/76 [01:09<02:06,  2.63s/it]"
     ]
    },
    {
     "name": "stdout",
     "output_type": "stream",
     "text": [
      "Image page21_img2.png feedback:\n",
      " {\"building_detected\": \"National Congress of Brazil\",\n",
      "  \"interior_or_exterior\": \"Interior\",\n",
      "  \"relevance_score\": \"1/10\",\n",
      "  \"justification\": \"This building was designed by Oscar Niemeyer, not Bjarke Ingels. Therefore it is not relevant.\",\n",
      "  \"architectural_features_visible\": true\n",
      "}\n"
     ]
    },
    {
     "name": "stderr",
     "output_type": "stream",
     "text": [
      "Evaluating images:  38%|███▊      | 29/76 [01:12<01:57,  2.51s/it]"
     ]
    },
    {
     "name": "stdout",
     "output_type": "stream",
     "text": [
      "Image page22_img1.png feedback:\n",
      " ```json\n",
      "{\n",
      "  \"building_detected\": \"No\",\n",
      "  \"interior_or_exterior\": \"Interior\",\n",
      "  \"relevance_score\": \"1/10\",\n",
      "  \"justification\": \"This image shows the interior of a legislative assembly, specifically the Brazilian National Congress building in Brasília. This building was not designed by Bjarke Ingels. Therefore, it is not relevant to an academic project about his work.\",\n",
      "  \"architectural_features_visible\": true\n",
      "}\n",
      "```\n"
     ]
    },
    {
     "name": "stderr",
     "output_type": "stream",
     "text": [
      "Evaluating images:  39%|███▉      | 30/76 [01:14<01:56,  2.52s/it]"
     ]
    },
    {
     "name": "stdout",
     "output_type": "stream",
     "text": [
      "Image page22_img2.png feedback:\n",
      " {\"building_detected\": \"No\",\n",
      "  \"interior_or_exterior\": \"Interior\",\n",
      "  \"relevance_score\": \"1/10\",\n",
      "  \"justification\": \"This image shows the interior of a legislative building that is not designed by Bjarke Ingels. It appears to be the National Congress of Brazil in Brasilia. The relevance to an academic project about Bjarke Ingels is very low unless it's used as a contrast to his style.\",\n",
      "  \"architectural_features_visible\": true\n",
      "}\n"
     ]
    },
    {
     "name": "stderr",
     "output_type": "stream",
     "text": [
      "Evaluating images:  41%|████      | 31/76 [01:17<02:00,  2.69s/it]"
     ]
    },
    {
     "name": "stdout",
     "output_type": "stream",
     "text": [
      "Image page23_img1.png feedback:\n",
      " ```json\n",
      "{\n",
      "  \"building_detected\": \"Niteroi Contemporary Art Museum (MAC) by Oscar Niemeyer\",\n",
      "  \"interior_or_exterior\": \"exterior\",\n",
      "  \"relevance_score\": \"1/10\",\n",
      "  \"justification\": \"The image shows the Niteroi Contemporary Art Museum, which was designed by Oscar Niemeyer, not Bjarke Ingels. Therefore, it is not relevant for an architecture project about Bjarke Ingels.\",\n",
      "  \"architectural_features_visible\": true\n",
      "}\n",
      "```\n"
     ]
    },
    {
     "name": "stderr",
     "output_type": "stream",
     "text": [
      "Evaluating images:  41%|████      | 31/76 [01:19<01:54,  2.55s/it]\n"
     ]
    },
    {
     "ename": "KeyboardInterrupt",
     "evalue": "",
     "output_type": "error",
     "traceback": [
      "\u001b[31m---------------------------------------------------------------------------\u001b[39m",
      "\u001b[31mKeyboardInterrupt\u001b[39m                         Traceback (most recent call last)",
      "\u001b[36mCell\u001b[39m\u001b[36m \u001b[39m\u001b[32mIn[19]\u001b[39m\u001b[32m, line 1\u001b[39m\n\u001b[32m----> \u001b[39m\u001b[32m1\u001b[39m result = \u001b[43mrun_autograder_full\u001b[49m\u001b[43m(\u001b[49m\u001b[33;43m\"\u001b[39;49m\u001b[33;43m/Users/ziyaozhou/desktop/submissions/dasilvatheo_LATE_171930_14930244_HW A1.pdf\u001b[39;49m\u001b[33;43m\"\u001b[39;49m\u001b[43m,\u001b[49m\u001b[43m \u001b[49m\u001b[33;43m\"\u001b[39;49m\u001b[33;43mBjarke Ingels\u001b[39;49m\u001b[33;43m\"\u001b[39;49m\u001b[43m,\u001b[49m\u001b[43m \u001b[49m\u001b[43mdebug\u001b[49m\u001b[43m=\u001b[49m\u001b[38;5;28;43;01mTrue\u001b[39;49;00m\u001b[43m)\u001b[49m\n",
      "\u001b[36mCell\u001b[39m\u001b[36m \u001b[39m\u001b[32mIn[18]\u001b[39m\u001b[32m, line 27\u001b[39m, in \u001b[36mrun_autograder_full\u001b[39m\u001b[34m(pdf_path, architect_name, debug)\u001b[39m\n\u001b[32m     25\u001b[39m references = extract_references_from_text(text)\n\u001b[32m     26\u001b[39m image_caption_context = get_caption_candidates(text, images)\n\u001b[32m---> \u001b[39m\u001b[32m27\u001b[39m enriched_feedback = \u001b[43mevaluate_images_with_gemini\u001b[49m\u001b[43m(\u001b[49m\u001b[43mimages\u001b[49m\u001b[43m,\u001b[49m\u001b[43m \u001b[49m\u001b[43marchitect_name\u001b[49m\u001b[43m,\u001b[49m\u001b[43m \u001b[49m\u001b[43mdebug\u001b[49m\u001b[43m)\u001b[49m\n\u001b[32m     28\u001b[39m image_caption_score = evaluate_image_structure_and_captions(enriched_feedback, image_caption_context)\n\u001b[32m     29\u001b[39m gemini_scores = gemini_detailed_rubric_eval(text, architect_name)\n",
      "\u001b[36mCell\u001b[39m\u001b[36m \u001b[39m\u001b[32mIn[8]\u001b[39m\u001b[32m, line 25\u001b[39m, in \u001b[36mevaluate_images_with_gemini\u001b[39m\u001b[34m(image_data, architect_name, debug)\u001b[39m\n\u001b[32m      6\u001b[39m         prompt = \u001b[33mf\u001b[39m\u001b[33m\"\"\"\u001b[39m\n\u001b[32m      7\u001b[39m \u001b[33mYou are reviewing an image submitted for a university architecture project about \u001b[39m\u001b[38;5;132;01m{\u001b[39;00marchitect_name\u001b[38;5;132;01m}\u001b[39;00m\u001b[33m.\u001b[39m\n\u001b[32m      8\u001b[39m \u001b[33mPlease analyze this image and answer:\u001b[39m\n\u001b[32m   (...)\u001b[39m\u001b[32m     22\u001b[39m \u001b[38;5;130;01m}}\u001b[39;00m\n\u001b[32m     23\u001b[39m \u001b[33m\"\"\"\u001b[39m\n\u001b[32m     24\u001b[39m         \u001b[38;5;28;01mtry\u001b[39;00m:\n\u001b[32m---> \u001b[39m\u001b[32m25\u001b[39m             response = \u001b[43mvision_model\u001b[49m\u001b[43m.\u001b[49m\u001b[43mgenerate_content\u001b[49m\u001b[43m(\u001b[49m\u001b[43m[\u001b[49m\u001b[43mimg\u001b[49m\u001b[43m[\u001b[49m\u001b[33;43m\"\u001b[39;49m\u001b[33;43mimage\u001b[39;49m\u001b[33;43m\"\u001b[39;49m\u001b[43m]\u001b[49m\u001b[43m,\u001b[49m\u001b[43m \u001b[49m\u001b[43mprompt\u001b[49m\u001b[43m]\u001b[49m\u001b[43m)\u001b[49m\n\u001b[32m     26\u001b[39m             \u001b[38;5;28;01mif\u001b[39;00m debug:\n\u001b[32m     27\u001b[39m                 \u001b[38;5;28mprint\u001b[39m(\u001b[33mf\u001b[39m\u001b[33m\"\u001b[39m\u001b[33mImage \u001b[39m\u001b[38;5;132;01m{\u001b[39;00mimg[\u001b[33m'\u001b[39m\u001b[33mfilename\u001b[39m\u001b[33m'\u001b[39m]\u001b[38;5;132;01m}\u001b[39;00m\u001b[33m feedback:\u001b[39m\u001b[38;5;130;01m\\n\u001b[39;00m\u001b[33m\"\u001b[39m, response.text)\n",
      "\u001b[36mFile \u001b[39m\u001b[32m~/Desktop/XR_Lab_Autograder/venv311/lib/python3.11/site-packages/google/generativeai/generative_models.py:331\u001b[39m, in \u001b[36mGenerativeModel.generate_content\u001b[39m\u001b[34m(self, contents, generation_config, safety_settings, stream, tools, tool_config, request_options)\u001b[39m\n\u001b[32m    329\u001b[39m         \u001b[38;5;28;01mreturn\u001b[39;00m generation_types.GenerateContentResponse.from_iterator(iterator)\n\u001b[32m    330\u001b[39m     \u001b[38;5;28;01melse\u001b[39;00m:\n\u001b[32m--> \u001b[39m\u001b[32m331\u001b[39m         response = \u001b[38;5;28;43mself\u001b[39;49m\u001b[43m.\u001b[49m\u001b[43m_client\u001b[49m\u001b[43m.\u001b[49m\u001b[43mgenerate_content\u001b[49m\u001b[43m(\u001b[49m\n\u001b[32m    332\u001b[39m \u001b[43m            \u001b[49m\u001b[43mrequest\u001b[49m\u001b[43m,\u001b[49m\n\u001b[32m    333\u001b[39m \u001b[43m            \u001b[49m\u001b[43m*\u001b[49m\u001b[43m*\u001b[49m\u001b[43mrequest_options\u001b[49m\u001b[43m,\u001b[49m\n\u001b[32m    334\u001b[39m \u001b[43m        \u001b[49m\u001b[43m)\u001b[49m\n\u001b[32m    335\u001b[39m         \u001b[38;5;28;01mreturn\u001b[39;00m generation_types.GenerateContentResponse.from_response(response)\n\u001b[32m    336\u001b[39m \u001b[38;5;28;01mexcept\u001b[39;00m google.api_core.exceptions.InvalidArgument \u001b[38;5;28;01mas\u001b[39;00m e:\n",
      "\u001b[36mFile \u001b[39m\u001b[32m~/Desktop/XR_Lab_Autograder/venv311/lib/python3.11/site-packages/google/ai/generativelanguage_v1beta/services/generative_service/client.py:835\u001b[39m, in \u001b[36mGenerativeServiceClient.generate_content\u001b[39m\u001b[34m(self, request, model, contents, retry, timeout, metadata)\u001b[39m\n\u001b[32m    832\u001b[39m \u001b[38;5;28mself\u001b[39m._validate_universe_domain()\n\u001b[32m    834\u001b[39m \u001b[38;5;66;03m# Send the request.\u001b[39;00m\n\u001b[32m--> \u001b[39m\u001b[32m835\u001b[39m response = \u001b[43mrpc\u001b[49m\u001b[43m(\u001b[49m\n\u001b[32m    836\u001b[39m \u001b[43m    \u001b[49m\u001b[43mrequest\u001b[49m\u001b[43m,\u001b[49m\n\u001b[32m    837\u001b[39m \u001b[43m    \u001b[49m\u001b[43mretry\u001b[49m\u001b[43m=\u001b[49m\u001b[43mretry\u001b[49m\u001b[43m,\u001b[49m\n\u001b[32m    838\u001b[39m \u001b[43m    \u001b[49m\u001b[43mtimeout\u001b[49m\u001b[43m=\u001b[49m\u001b[43mtimeout\u001b[49m\u001b[43m,\u001b[49m\n\u001b[32m    839\u001b[39m \u001b[43m    \u001b[49m\u001b[43mmetadata\u001b[49m\u001b[43m=\u001b[49m\u001b[43mmetadata\u001b[49m\u001b[43m,\u001b[49m\n\u001b[32m    840\u001b[39m \u001b[43m\u001b[49m\u001b[43m)\u001b[49m\n\u001b[32m    842\u001b[39m \u001b[38;5;66;03m# Done; return the response.\u001b[39;00m\n\u001b[32m    843\u001b[39m \u001b[38;5;28;01mreturn\u001b[39;00m response\n",
      "\u001b[36mFile \u001b[39m\u001b[32m~/Desktop/XR_Lab_Autograder/venv311/lib/python3.11/site-packages/google/api_core/gapic_v1/method.py:131\u001b[39m, in \u001b[36m_GapicCallable.__call__\u001b[39m\u001b[34m(self, timeout, retry, compression, *args, **kwargs)\u001b[39m\n\u001b[32m    128\u001b[39m \u001b[38;5;28;01mif\u001b[39;00m \u001b[38;5;28mself\u001b[39m._compression \u001b[38;5;129;01mis\u001b[39;00m \u001b[38;5;129;01mnot\u001b[39;00m \u001b[38;5;28;01mNone\u001b[39;00m:\n\u001b[32m    129\u001b[39m     kwargs[\u001b[33m\"\u001b[39m\u001b[33mcompression\u001b[39m\u001b[33m\"\u001b[39m] = compression\n\u001b[32m--> \u001b[39m\u001b[32m131\u001b[39m \u001b[38;5;28;01mreturn\u001b[39;00m \u001b[43mwrapped_func\u001b[49m\u001b[43m(\u001b[49m\u001b[43m*\u001b[49m\u001b[43margs\u001b[49m\u001b[43m,\u001b[49m\u001b[43m \u001b[49m\u001b[43m*\u001b[49m\u001b[43m*\u001b[49m\u001b[43mkwargs\u001b[49m\u001b[43m)\u001b[49m\n",
      "\u001b[36mFile \u001b[39m\u001b[32m~/Desktop/XR_Lab_Autograder/venv311/lib/python3.11/site-packages/google/api_core/retry/retry_unary.py:294\u001b[39m, in \u001b[36mRetry.__call__.<locals>.retry_wrapped_func\u001b[39m\u001b[34m(*args, **kwargs)\u001b[39m\n\u001b[32m    290\u001b[39m target = functools.partial(func, *args, **kwargs)\n\u001b[32m    291\u001b[39m sleep_generator = exponential_sleep_generator(\n\u001b[32m    292\u001b[39m     \u001b[38;5;28mself\u001b[39m._initial, \u001b[38;5;28mself\u001b[39m._maximum, multiplier=\u001b[38;5;28mself\u001b[39m._multiplier\n\u001b[32m    293\u001b[39m )\n\u001b[32m--> \u001b[39m\u001b[32m294\u001b[39m \u001b[38;5;28;01mreturn\u001b[39;00m \u001b[43mretry_target\u001b[49m\u001b[43m(\u001b[49m\n\u001b[32m    295\u001b[39m \u001b[43m    \u001b[49m\u001b[43mtarget\u001b[49m\u001b[43m,\u001b[49m\n\u001b[32m    296\u001b[39m \u001b[43m    \u001b[49m\u001b[38;5;28;43mself\u001b[39;49m\u001b[43m.\u001b[49m\u001b[43m_predicate\u001b[49m\u001b[43m,\u001b[49m\n\u001b[32m    297\u001b[39m \u001b[43m    \u001b[49m\u001b[43msleep_generator\u001b[49m\u001b[43m,\u001b[49m\n\u001b[32m    298\u001b[39m \u001b[43m    \u001b[49m\u001b[43mtimeout\u001b[49m\u001b[43m=\u001b[49m\u001b[38;5;28;43mself\u001b[39;49m\u001b[43m.\u001b[49m\u001b[43m_timeout\u001b[49m\u001b[43m,\u001b[49m\n\u001b[32m    299\u001b[39m \u001b[43m    \u001b[49m\u001b[43mon_error\u001b[49m\u001b[43m=\u001b[49m\u001b[43mon_error\u001b[49m\u001b[43m,\u001b[49m\n\u001b[32m    300\u001b[39m \u001b[43m\u001b[49m\u001b[43m)\u001b[49m\n",
      "\u001b[36mFile \u001b[39m\u001b[32m~/Desktop/XR_Lab_Autograder/venv311/lib/python3.11/site-packages/google/api_core/retry/retry_unary.py:147\u001b[39m, in \u001b[36mretry_target\u001b[39m\u001b[34m(target, predicate, sleep_generator, timeout, on_error, exception_factory, **kwargs)\u001b[39m\n\u001b[32m    145\u001b[39m \u001b[38;5;28;01mwhile\u001b[39;00m \u001b[38;5;28;01mTrue\u001b[39;00m:\n\u001b[32m    146\u001b[39m     \u001b[38;5;28;01mtry\u001b[39;00m:\n\u001b[32m--> \u001b[39m\u001b[32m147\u001b[39m         result = \u001b[43mtarget\u001b[49m\u001b[43m(\u001b[49m\u001b[43m)\u001b[49m\n\u001b[32m    148\u001b[39m         \u001b[38;5;28;01mif\u001b[39;00m inspect.isawaitable(result):\n\u001b[32m    149\u001b[39m             warnings.warn(_ASYNC_RETRY_WARNING)\n",
      "\u001b[36mFile \u001b[39m\u001b[32m~/Desktop/XR_Lab_Autograder/venv311/lib/python3.11/site-packages/google/api_core/timeout.py:130\u001b[39m, in \u001b[36mTimeToDeadlineTimeout.__call__.<locals>.func_with_timeout\u001b[39m\u001b[34m(*args, **kwargs)\u001b[39m\n\u001b[32m    126\u001b[39m         remaining_timeout = \u001b[38;5;28mself\u001b[39m._timeout\n\u001b[32m    128\u001b[39m     kwargs[\u001b[33m\"\u001b[39m\u001b[33mtimeout\u001b[39m\u001b[33m\"\u001b[39m] = remaining_timeout\n\u001b[32m--> \u001b[39m\u001b[32m130\u001b[39m \u001b[38;5;28;01mreturn\u001b[39;00m \u001b[43mfunc\u001b[49m\u001b[43m(\u001b[49m\u001b[43m*\u001b[49m\u001b[43margs\u001b[49m\u001b[43m,\u001b[49m\u001b[43m \u001b[49m\u001b[43m*\u001b[49m\u001b[43m*\u001b[49m\u001b[43mkwargs\u001b[49m\u001b[43m)\u001b[49m\n",
      "\u001b[36mFile \u001b[39m\u001b[32m~/Desktop/XR_Lab_Autograder/venv311/lib/python3.11/site-packages/google/api_core/grpc_helpers.py:76\u001b[39m, in \u001b[36m_wrap_unary_errors.<locals>.error_remapped_callable\u001b[39m\u001b[34m(*args, **kwargs)\u001b[39m\n\u001b[32m     73\u001b[39m \u001b[38;5;129m@functools\u001b[39m.wraps(callable_)\n\u001b[32m     74\u001b[39m \u001b[38;5;28;01mdef\u001b[39;00m\u001b[38;5;250m \u001b[39m\u001b[34merror_remapped_callable\u001b[39m(*args, **kwargs):\n\u001b[32m     75\u001b[39m     \u001b[38;5;28;01mtry\u001b[39;00m:\n\u001b[32m---> \u001b[39m\u001b[32m76\u001b[39m         \u001b[38;5;28;01mreturn\u001b[39;00m \u001b[43mcallable_\u001b[49m\u001b[43m(\u001b[49m\u001b[43m*\u001b[49m\u001b[43margs\u001b[49m\u001b[43m,\u001b[49m\u001b[43m \u001b[49m\u001b[43m*\u001b[49m\u001b[43m*\u001b[49m\u001b[43mkwargs\u001b[49m\u001b[43m)\u001b[49m\n\u001b[32m     77\u001b[39m     \u001b[38;5;28;01mexcept\u001b[39;00m grpc.RpcError \u001b[38;5;28;01mas\u001b[39;00m exc:\n\u001b[32m     78\u001b[39m         \u001b[38;5;28;01mraise\u001b[39;00m exceptions.from_grpc_error(exc) \u001b[38;5;28;01mfrom\u001b[39;00m\u001b[38;5;250m \u001b[39m\u001b[34;01mexc\u001b[39;00m\n",
      "\u001b[36mFile \u001b[39m\u001b[32m~/Desktop/XR_Lab_Autograder/venv311/lib/python3.11/site-packages/grpc/_interceptor.py:277\u001b[39m, in \u001b[36m_UnaryUnaryMultiCallable.__call__\u001b[39m\u001b[34m(self, request, timeout, metadata, credentials, wait_for_ready, compression)\u001b[39m\n\u001b[32m    268\u001b[39m \u001b[38;5;28;01mdef\u001b[39;00m\u001b[38;5;250m \u001b[39m\u001b[34m__call__\u001b[39m(\n\u001b[32m    269\u001b[39m     \u001b[38;5;28mself\u001b[39m,\n\u001b[32m    270\u001b[39m     request: Any,\n\u001b[32m   (...)\u001b[39m\u001b[32m    275\u001b[39m     compression: Optional[grpc.Compression] = \u001b[38;5;28;01mNone\u001b[39;00m,\n\u001b[32m    276\u001b[39m ) -> Any:\n\u001b[32m--> \u001b[39m\u001b[32m277\u001b[39m     response, ignored_call = \u001b[38;5;28;43mself\u001b[39;49m\u001b[43m.\u001b[49m\u001b[43m_with_call\u001b[49m\u001b[43m(\u001b[49m\n\u001b[32m    278\u001b[39m \u001b[43m        \u001b[49m\u001b[43mrequest\u001b[49m\u001b[43m,\u001b[49m\n\u001b[32m    279\u001b[39m \u001b[43m        \u001b[49m\u001b[43mtimeout\u001b[49m\u001b[43m=\u001b[49m\u001b[43mtimeout\u001b[49m\u001b[43m,\u001b[49m\n\u001b[32m    280\u001b[39m \u001b[43m        \u001b[49m\u001b[43mmetadata\u001b[49m\u001b[43m=\u001b[49m\u001b[43mmetadata\u001b[49m\u001b[43m,\u001b[49m\n\u001b[32m    281\u001b[39m \u001b[43m        \u001b[49m\u001b[43mcredentials\u001b[49m\u001b[43m=\u001b[49m\u001b[43mcredentials\u001b[49m\u001b[43m,\u001b[49m\n\u001b[32m    282\u001b[39m \u001b[43m        \u001b[49m\u001b[43mwait_for_ready\u001b[49m\u001b[43m=\u001b[49m\u001b[43mwait_for_ready\u001b[49m\u001b[43m,\u001b[49m\n\u001b[32m    283\u001b[39m \u001b[43m        \u001b[49m\u001b[43mcompression\u001b[49m\u001b[43m=\u001b[49m\u001b[43mcompression\u001b[49m\u001b[43m,\u001b[49m\n\u001b[32m    284\u001b[39m \u001b[43m    \u001b[49m\u001b[43m)\u001b[49m\n\u001b[32m    285\u001b[39m     \u001b[38;5;28;01mreturn\u001b[39;00m response\n",
      "\u001b[36mFile \u001b[39m\u001b[32m~/Desktop/XR_Lab_Autograder/venv311/lib/python3.11/site-packages/grpc/_interceptor.py:329\u001b[39m, in \u001b[36m_UnaryUnaryMultiCallable._with_call\u001b[39m\u001b[34m(self, request, timeout, metadata, credentials, wait_for_ready, compression)\u001b[39m\n\u001b[32m    326\u001b[39m     \u001b[38;5;28;01mexcept\u001b[39;00m \u001b[38;5;167;01mException\u001b[39;00m \u001b[38;5;28;01mas\u001b[39;00m exception:  \u001b[38;5;66;03m# pylint:disable=broad-except\u001b[39;00m\n\u001b[32m    327\u001b[39m         \u001b[38;5;28;01mreturn\u001b[39;00m _FailureOutcome(exception, sys.exc_info()[\u001b[32m2\u001b[39m])\n\u001b[32m--> \u001b[39m\u001b[32m329\u001b[39m call = \u001b[38;5;28;43mself\u001b[39;49m\u001b[43m.\u001b[49m\u001b[43m_interceptor\u001b[49m\u001b[43m.\u001b[49m\u001b[43mintercept_unary_unary\u001b[49m\u001b[43m(\u001b[49m\n\u001b[32m    330\u001b[39m \u001b[43m    \u001b[49m\u001b[43mcontinuation\u001b[49m\u001b[43m,\u001b[49m\u001b[43m \u001b[49m\u001b[43mclient_call_details\u001b[49m\u001b[43m,\u001b[49m\u001b[43m \u001b[49m\u001b[43mrequest\u001b[49m\n\u001b[32m    331\u001b[39m \u001b[43m\u001b[49m\u001b[43m)\u001b[49m\n\u001b[32m    332\u001b[39m \u001b[38;5;28;01mreturn\u001b[39;00m call.result(), call\n",
      "\u001b[36mFile \u001b[39m\u001b[32m~/Desktop/XR_Lab_Autograder/venv311/lib/python3.11/site-packages/google/ai/generativelanguage_v1beta/services/generative_service/transports/grpc.py:79\u001b[39m, in \u001b[36m_LoggingClientInterceptor.intercept_unary_unary\u001b[39m\u001b[34m(self, continuation, client_call_details, request)\u001b[39m\n\u001b[32m     64\u001b[39m     grpc_request = {\n\u001b[32m     65\u001b[39m         \u001b[33m\"\u001b[39m\u001b[33mpayload\u001b[39m\u001b[33m\"\u001b[39m: request_payload,\n\u001b[32m     66\u001b[39m         \u001b[33m\"\u001b[39m\u001b[33mrequestMethod\u001b[39m\u001b[33m\"\u001b[39m: \u001b[33m\"\u001b[39m\u001b[33mgrpc\u001b[39m\u001b[33m\"\u001b[39m,\n\u001b[32m     67\u001b[39m         \u001b[33m\"\u001b[39m\u001b[33mmetadata\u001b[39m\u001b[33m\"\u001b[39m: \u001b[38;5;28mdict\u001b[39m(request_metadata),\n\u001b[32m     68\u001b[39m     }\n\u001b[32m     69\u001b[39m     _LOGGER.debug(\n\u001b[32m     70\u001b[39m         \u001b[33mf\u001b[39m\u001b[33m\"\u001b[39m\u001b[33mSending request for \u001b[39m\u001b[38;5;132;01m{\u001b[39;00mclient_call_details.method\u001b[38;5;132;01m}\u001b[39;00m\u001b[33m\"\u001b[39m,\n\u001b[32m     71\u001b[39m         extra={\n\u001b[32m   (...)\u001b[39m\u001b[32m     76\u001b[39m         },\n\u001b[32m     77\u001b[39m     )\n\u001b[32m---> \u001b[39m\u001b[32m79\u001b[39m response = \u001b[43mcontinuation\u001b[49m\u001b[43m(\u001b[49m\u001b[43mclient_call_details\u001b[49m\u001b[43m,\u001b[49m\u001b[43m \u001b[49m\u001b[43mrequest\u001b[49m\u001b[43m)\u001b[49m\n\u001b[32m     80\u001b[39m \u001b[38;5;28;01mif\u001b[39;00m logging_enabled:  \u001b[38;5;66;03m# pragma: NO COVER\u001b[39;00m\n\u001b[32m     81\u001b[39m     response_metadata = response.trailing_metadata()\n",
      "\u001b[36mFile \u001b[39m\u001b[32m~/Desktop/XR_Lab_Autograder/venv311/lib/python3.11/site-packages/grpc/_interceptor.py:315\u001b[39m, in \u001b[36m_UnaryUnaryMultiCallable._with_call.<locals>.continuation\u001b[39m\u001b[34m(new_details, request)\u001b[39m\n\u001b[32m    306\u001b[39m (\n\u001b[32m    307\u001b[39m     new_method,\n\u001b[32m    308\u001b[39m     new_timeout,\n\u001b[32m   (...)\u001b[39m\u001b[32m    312\u001b[39m     new_compression,\n\u001b[32m    313\u001b[39m ) = _unwrap_client_call_details(new_details, client_call_details)\n\u001b[32m    314\u001b[39m \u001b[38;5;28;01mtry\u001b[39;00m:\n\u001b[32m--> \u001b[39m\u001b[32m315\u001b[39m     response, call = \u001b[38;5;28;43mself\u001b[39;49m\u001b[43m.\u001b[49m\u001b[43m_thunk\u001b[49m\u001b[43m(\u001b[49m\u001b[43mnew_method\u001b[49m\u001b[43m)\u001b[49m\u001b[43m.\u001b[49m\u001b[43mwith_call\u001b[49m\u001b[43m(\u001b[49m\n\u001b[32m    316\u001b[39m \u001b[43m        \u001b[49m\u001b[43mrequest\u001b[49m\u001b[43m,\u001b[49m\n\u001b[32m    317\u001b[39m \u001b[43m        \u001b[49m\u001b[43mtimeout\u001b[49m\u001b[43m=\u001b[49m\u001b[43mnew_timeout\u001b[49m\u001b[43m,\u001b[49m\n\u001b[32m    318\u001b[39m \u001b[43m        \u001b[49m\u001b[43mmetadata\u001b[49m\u001b[43m=\u001b[49m\u001b[43mnew_metadata\u001b[49m\u001b[43m,\u001b[49m\n\u001b[32m    319\u001b[39m \u001b[43m        \u001b[49m\u001b[43mcredentials\u001b[49m\u001b[43m=\u001b[49m\u001b[43mnew_credentials\u001b[49m\u001b[43m,\u001b[49m\n\u001b[32m    320\u001b[39m \u001b[43m        \u001b[49m\u001b[43mwait_for_ready\u001b[49m\u001b[43m=\u001b[49m\u001b[43mnew_wait_for_ready\u001b[49m\u001b[43m,\u001b[49m\n\u001b[32m    321\u001b[39m \u001b[43m        \u001b[49m\u001b[43mcompression\u001b[49m\u001b[43m=\u001b[49m\u001b[43mnew_compression\u001b[49m\u001b[43m,\u001b[49m\n\u001b[32m    322\u001b[39m \u001b[43m    \u001b[49m\u001b[43m)\u001b[49m\n\u001b[32m    323\u001b[39m     \u001b[38;5;28;01mreturn\u001b[39;00m _UnaryOutcome(response, call)\n\u001b[32m    324\u001b[39m \u001b[38;5;28;01mexcept\u001b[39;00m grpc.RpcError \u001b[38;5;28;01mas\u001b[39;00m rpc_error:\n",
      "\u001b[36mFile \u001b[39m\u001b[32m~/Desktop/XR_Lab_Autograder/venv311/lib/python3.11/site-packages/grpc/_channel.py:1195\u001b[39m, in \u001b[36m_UnaryUnaryMultiCallable.with_call\u001b[39m\u001b[34m(self, request, timeout, metadata, credentials, wait_for_ready, compression)\u001b[39m\n\u001b[32m   1183\u001b[39m \u001b[38;5;28;01mdef\u001b[39;00m\u001b[38;5;250m \u001b[39m\u001b[34mwith_call\u001b[39m(\n\u001b[32m   1184\u001b[39m     \u001b[38;5;28mself\u001b[39m,\n\u001b[32m   1185\u001b[39m     request: Any,\n\u001b[32m   (...)\u001b[39m\u001b[32m   1190\u001b[39m     compression: Optional[grpc.Compression] = \u001b[38;5;28;01mNone\u001b[39;00m,\n\u001b[32m   1191\u001b[39m ) -> Tuple[Any, grpc.Call]:\n\u001b[32m   1192\u001b[39m     (\n\u001b[32m   1193\u001b[39m         state,\n\u001b[32m   1194\u001b[39m         call,\n\u001b[32m-> \u001b[39m\u001b[32m1195\u001b[39m     ) = \u001b[38;5;28;43mself\u001b[39;49m\u001b[43m.\u001b[49m\u001b[43m_blocking\u001b[49m\u001b[43m(\u001b[49m\n\u001b[32m   1196\u001b[39m \u001b[43m        \u001b[49m\u001b[43mrequest\u001b[49m\u001b[43m,\u001b[49m\u001b[43m \u001b[49m\u001b[43mtimeout\u001b[49m\u001b[43m,\u001b[49m\u001b[43m \u001b[49m\u001b[43mmetadata\u001b[49m\u001b[43m,\u001b[49m\u001b[43m \u001b[49m\u001b[43mcredentials\u001b[49m\u001b[43m,\u001b[49m\u001b[43m \u001b[49m\u001b[43mwait_for_ready\u001b[49m\u001b[43m,\u001b[49m\u001b[43m \u001b[49m\u001b[43mcompression\u001b[49m\n\u001b[32m   1197\u001b[39m \u001b[43m    \u001b[49m\u001b[43m)\u001b[49m\n\u001b[32m   1198\u001b[39m     \u001b[38;5;28;01mreturn\u001b[39;00m _end_unary_response_blocking(state, call, \u001b[38;5;28;01mTrue\u001b[39;00m, \u001b[38;5;28;01mNone\u001b[39;00m)\n",
      "\u001b[36mFile \u001b[39m\u001b[32m~/Desktop/XR_Lab_Autograder/venv311/lib/python3.11/site-packages/grpc/_channel.py:1162\u001b[39m, in \u001b[36m_UnaryUnaryMultiCallable._blocking\u001b[39m\u001b[34m(self, request, timeout, metadata, credentials, wait_for_ready, compression)\u001b[39m\n\u001b[32m   1145\u001b[39m state.target = _common.decode(\u001b[38;5;28mself\u001b[39m._target)\n\u001b[32m   1146\u001b[39m call = \u001b[38;5;28mself\u001b[39m._channel.segregated_call(\n\u001b[32m   1147\u001b[39m     cygrpc.PropagationConstants.GRPC_PROPAGATE_DEFAULTS,\n\u001b[32m   1148\u001b[39m     \u001b[38;5;28mself\u001b[39m._method,\n\u001b[32m   (...)\u001b[39m\u001b[32m   1160\u001b[39m     \u001b[38;5;28mself\u001b[39m._registered_call_handle,\n\u001b[32m   1161\u001b[39m )\n\u001b[32m-> \u001b[39m\u001b[32m1162\u001b[39m event = \u001b[43mcall\u001b[49m\u001b[43m.\u001b[49m\u001b[43mnext_event\u001b[49m\u001b[43m(\u001b[49m\u001b[43m)\u001b[49m\n\u001b[32m   1163\u001b[39m _handle_event(event, state, \u001b[38;5;28mself\u001b[39m._response_deserializer)\n\u001b[32m   1164\u001b[39m \u001b[38;5;28;01mreturn\u001b[39;00m state, call\n",
      "\u001b[36mFile \u001b[39m\u001b[32msrc/python/grpcio/grpc/_cython/_cygrpc/channel.pyx.pxi:388\u001b[39m, in \u001b[36mgrpc._cython.cygrpc.SegregatedCall.next_event\u001b[39m\u001b[34m()\u001b[39m\n",
      "\u001b[36mFile \u001b[39m\u001b[32msrc/python/grpcio/grpc/_cython/_cygrpc/channel.pyx.pxi:211\u001b[39m, in \u001b[36mgrpc._cython.cygrpc._next_call_event\u001b[39m\u001b[34m()\u001b[39m\n",
      "\u001b[36mFile \u001b[39m\u001b[32msrc/python/grpcio/grpc/_cython/_cygrpc/channel.pyx.pxi:205\u001b[39m, in \u001b[36mgrpc._cython.cygrpc._next_call_event\u001b[39m\u001b[34m()\u001b[39m\n",
      "\u001b[36mFile \u001b[39m\u001b[32msrc/python/grpcio/grpc/_cython/_cygrpc/completion_queue.pyx.pxi:78\u001b[39m, in \u001b[36mgrpc._cython.cygrpc._latent_event\u001b[39m\u001b[34m()\u001b[39m\n",
      "\u001b[36mFile \u001b[39m\u001b[32msrc/python/grpcio/grpc/_cython/_cygrpc/completion_queue.pyx.pxi:61\u001b[39m, in \u001b[36mgrpc._cython.cygrpc._internal_latent_event\u001b[39m\u001b[34m()\u001b[39m\n",
      "\u001b[36mFile \u001b[39m\u001b[32msrc/python/grpcio/grpc/_cython/_cygrpc/completion_queue.pyx.pxi:42\u001b[39m, in \u001b[36mgrpc._cython.cygrpc._next\u001b[39m\u001b[34m()\u001b[39m\n",
      "\u001b[31mKeyboardInterrupt\u001b[39m: "
     ]
    }
   ],
   "source": [
    "result = run_autograder_full(\"/Users/ziyaozhou/desktop/submissions/dasilvatheo_LATE_171930_14930244_HW A1.pdf\", \"Bjarke Ingels\", debug=True)"
   ]
  },
  {
   "cell_type": "code",
   "execution_count": null,
   "metadata": {},
   "outputs": [
    {
     "name": "stdout",
     "output_type": "stream",
     "text": [
      "Starting full grading pipeline\n",
      " Extracting text from: /Users/ziyaozhou/desktop/submissions/dasilvatheo_LATE_171930_14930244_HW A1.pdf\n",
      " Extracted text from PDF\n",
      " Extracting images from: /Users/ziyaozhou/desktop/submissions/dasilvatheo_LATE_171930_14930244_HW A1.pdf\n",
      " Extracted 76 images\n",
      " Extracting references from text\n",
      "Scanning for image captions...\n",
      " Evaluating image content and relevance using Gemini...\n"
     ]
    },
    {
     "name": "stderr",
     "output_type": "stream",
     "text": [
      "Evaluating images:  13%|█▎        | 10/76 [00:19<02:20,  2.13s/it]"
     ]
    },
    {
     "name": "stdout",
     "output_type": "stream",
     "text": [
      " Still failed to parse JSON from page12_img2.png: Expecting value: line 1 column 1 (char 0)\n"
     ]
    },
    {
     "name": "stderr",
     "output_type": "stream",
     "text": [
      "Evaluating images:  49%|████▊     | 37/76 [01:27<01:48,  2.79s/it]"
     ]
    },
    {
     "name": "stdout",
     "output_type": "stream",
     "text": [
      " Still failed to parse JSON from page26_img1.png: Expecting value: line 1 column 1 (char 0)\n"
     ]
    },
    {
     "name": "stderr",
     "output_type": "stream",
     "text": [
      "Evaluating images:  66%|██████▌   | 50/76 [02:01<01:05,  2.53s/it]"
     ]
    },
    {
     "name": "stdout",
     "output_type": "stream",
     "text": [
      " Still failed to parse JSON from page32_img2.png: Expecting value: line 1 column 1 (char 0)\n"
     ]
    },
    {
     "name": "stderr",
     "output_type": "stream",
     "text": [
      "Evaluating images:  78%|███████▊  | 59/76 [02:33<01:11,  4.18s/it]"
     ]
    },
    {
     "name": "stdout",
     "output_type": "stream",
     "text": [
      " Still failed to parse JSON from page37_img1.png: Expecting value: line 1 column 1 (char 0)\n"
     ]
    },
    {
     "name": "stderr",
     "output_type": "stream",
     "text": [
      "Evaluating images:  92%|█████████▏| 70/76 [03:05<00:14,  2.47s/it]"
     ]
    },
    {
     "name": "stdout",
     "output_type": "stream",
     "text": [
      " Still failed to parse JSON from page42_img2.png: Expecting value: line 1 column 1 (char 0)\n"
     ]
    },
    {
     "name": "stderr",
     "output_type": "stream",
     "text": [
      "Evaluating images:  95%|█████████▍| 72/76 [03:09<00:09,  2.33s/it]"
     ]
    },
    {
     "name": "stdout",
     "output_type": "stream",
     "text": [
      " Still failed to parse JSON from page43_img2.png: Expecting value: line 1 column 1 (char 0)\n"
     ]
    },
    {
     "name": "stderr",
     "output_type": "stream",
     "text": [
      "Evaluating images: 100%|██████████| 76/76 [03:20<00:00,  2.64s/it]\n"
     ]
    },
    {
     "name": "stdout",
     "output_type": "stream",
     "text": [
      "Evaluating caption presence and structure\n",
      " Gemini evaluating full rubric with explanations\n",
      "Okay, I've reviewed the student's submission on Oscar Niemeyer. Here's my rubric-based analysis:\n",
      "\n",
      "**1. Architect Selection & Scope**\n",
      "Justification: The student has selected Oscar Niemeyer, a well-known architect included in Book Two, making the selection appropriate and on-topic. This is explicitly stated as well.\n",
      "Score: 5/5\n",
      "\n",
      "**2. Organization & Document Setup**\n",
      "Justification: The document contains sections for a student bio, buildings, and references. There isn't a Table of Contents, nor is there a dedicated Biography Section. Sections are somewhat labeled (e.g., \"Step 1\"), but this is not as effective as dedicated headings. The organization could be improved with consistent headings and a TOC.\n",
      "Score: 3/5\n",
      "\n",
      "**3. Biographical Content (750 words)**\n",
      "Justification: A biographical section seems to be present under the heading \"Step 3: Bibliography\". The writing there covers key aspects of Niemeyer's life and architectural style. However, it's challenging to confirm the word count without copying and pasting it into a text editor. The content seems generally on-topic, discussing his achievements, influences, and design philosophy. However, this section appears out of place and there may be a more appropriate space for it.\n",
      "Score: 3/5\n",
      "\n",
      "**4. Citation of Architect Biography**\n",
      "Justification: The \"Step 4: Reference\" section lists several sources, which include relevant websites and books related to Oscar Niemeyer. However, they are not formatted in APA style and lack essential components like DOIs, publisher information, and clear indications of whether they are journal articles, books, or website entries. The sources are mostly relevant, but the formatting is quite poor. The number of references seems sufficient. There is no mention of citation counts.\n",
      "Score: 2/5\n",
      "\n",
      "**5. Selection & Quality of Images**\n",
      "Justification: The assignment requires a certain amount of images. The document contains a plethora of images. Each of the 10 buildings are represented with at least 5 or more images, with a mix of interior and exterior shots, which is great. However, the image quality varies significantly, with some images appearing low-resolution and/or blurry.\n",
      "Score: 4/5\n",
      "\n",
      "**6. Image Citation & Attribution**\n",
      "Justification: Every image includes a URL or photographer credit directly underneath. This consistency is good. However, a proper caption describing the image itself would improve comprehension.\n",
      "Score: 4/5\n",
      "\n",
      "**7. Coverage of 10 Famous Buildings**\n",
      "Justification: Ten buildings are listed with their locations and a short significance statement. This fulfills the minimum requirements. The descriptions are brief but adequate.\n",
      "Score: 5/5\n",
      "\n",
      "**8. Image Relevance**\n",
      "Justification: The images are generally relevant to the buildings they are associated with. They showcase key architectural features and spaces within each building.\n",
      "Score: 5/5\n",
      "\n",
      "**9. Personal Bio & Photo**\n",
      "Justification: A photo and a short bio are present, located after the TOC (though the TOC is missing!). The bio is only a few sentences. The photo appears somewhat professional.\n",
      "Score: 4/5\n",
      "\n",
      "**10. Overall Completeness & Presentation**\n",
      "Justification: The submission feels incomplete in terms of formatting and organization. The presentation needs significant improvement to be considered polished or publication-ready. The layout lacks visual consistency, and the document requires clearer headings and better formatting of citations. The lack of a TOC is a major issue.\n",
      "Score: 2/5\n",
      "\n",
      " Compiling final scorecard\n",
      "Starting full grading pipeline\n",
      " Extracting text from: /Users/ziyaozhou/desktop/submissions/davidmatthew_LATE_134808_14949557_COGS 160_ A1.pdf\n",
      " Extracted text from PDF\n",
      " Extracting images from: /Users/ziyaozhou/desktop/submissions/davidmatthew_LATE_134808_14949557_COGS 160_ A1.pdf\n",
      " Extracted 71 images\n",
      " Extracting references from text\n",
      "Scanning for image captions...\n",
      " Evaluating image content and relevance using Gemini...\n"
     ]
    },
    {
     "name": "stderr",
     "output_type": "stream",
     "text": [
      "Evaluating images:   6%|▌         | 4/71 [00:11<03:28,  3.12s/it]"
     ]
    },
    {
     "name": "stdout",
     "output_type": "stream",
     "text": [
      " Still failed to parse JSON from page6_img2.png: Expecting value: line 1 column 1 (char 0)\n"
     ]
    },
    {
     "name": "stderr",
     "output_type": "stream",
     "text": [
      "Evaluating images:  51%|█████     | 36/71 [01:49<01:36,  2.77s/it]"
     ]
    },
    {
     "name": "stdout",
     "output_type": "stream",
     "text": [
      " Still failed to parse JSON from page24_img2.png: Expecting value: line 1 column 1 (char 0)\n"
     ]
    },
    {
     "name": "stderr",
     "output_type": "stream",
     "text": [
      "Evaluating images:  94%|█████████▍| 67/71 [03:41<00:12,  3.21s/it]"
     ]
    },
    {
     "name": "stdout",
     "output_type": "stream",
     "text": [
      " Still failed to parse JSON from page41_img2.png: Expecting value: line 1 column 1 (char 0)\n"
     ]
    },
    {
     "name": "stderr",
     "output_type": "stream",
     "text": [
      "Evaluating images:  97%|█████████▋| 69/71 [03:47<00:06,  3.09s/it]"
     ]
    },
    {
     "name": "stdout",
     "output_type": "stream",
     "text": [
      " Still failed to parse JSON from page42_img2.png: Expecting value: line 1 column 1 (char 0)\n"
     ]
    },
    {
     "name": "stderr",
     "output_type": "stream",
     "text": [
      "Evaluating images: 100%|██████████| 71/71 [03:53<00:00,  3.29s/it]\n"
     ]
    },
    {
     "name": "stdout",
     "output_type": "stream",
     "text": [
      "Evaluating caption presence and structure\n",
      " Gemini evaluating full rubric with explanations\n",
      "Okay, I've reviewed the document. Here's my rubric-based analysis:\n",
      "\n",
      "**1. Architect Selection & Scope**\n",
      "Justification: The student has selected Oscar Niemeyer. While the submission does not *explicitly* state this is an architect found in \"Book Two,\" this is an incredibly famous architect, and highly plausible to be found in the required book. Therefore, I'm willing to assume the student is following the instructions.\n",
      "Score: 4/5\n",
      "\n",
      "**2. Organization & Document Setup**\n",
      "Justification: There isn't a Table of Contents, which is a clear failure. The document is split into sections, but the labeling is strange (e.g. \"Step 1,\" \"Step 2,\" \"Step 3,\" \"Step 4\"). The sections themselves are not consistently labeled or logically organized. It goes straight from Niemeyer's basic information to \"10 famous buildings.\" There's no proper section for the biographical information.\n",
      "Score: 1/5\n",
      "\n",
      "**3. Biographical Content (750 words)**\n",
      "Justification: There is a description of Niemeyer in \"Step 3: Bibliography\", which can be interpreted as the biographical content. It is approximately 350 words, which is not enough. The bio touches upon some relevant points about his style and legacy, but lacks depth and detail regarding education, key achievements (like the Pritzker Prize, which is only mentioned in the bibliography), and his initial building designs. The discussion of typologies is implicit, not explicit.\n",
      "Score: 2/5\n",
      "\n",
      "**4. Citation of Architect Biography**\n",
      "Justification: The \"Step 4: Reference\" section includes several sources, which could be interpreted as citations for the biographical content. However, these are just links and titles; they are *not* formatted according to APA or any other academic style. There are no DOIs, nor is there a citation count present. Some of the sources are websites (e.g. Britannica, Oscar Niemeyer Foundation), which are acceptable, but there should be more. There are also no in-text citations to link these sources to the biographical text.\n",
      "Score: 1/5\n",
      "\n",
      "**5. Selection & Quality of Images**\n",
      "Justification: For most of the buildings, the student has included 3+ exterior and 5+ interior shots, which is great. Image quality varies; some are high-resolution, but others appear smaller and slightly pixelated. There are enough images of the buildings to meet the requirements in most cases.\n",
      "Score: 4/5\n",
      "\n",
      "**6. Image Citation & Attribution**\n",
      "Justification: Every image has a URL underneath it which is good! The student has been consistent in providing a source for each image.\n",
      "Score: 5/5\n",
      "\n",
      "**7. Coverage of 10 Famous Buildings**\n",
      "Justification: Ten buildings are listed and identified by name and number (1-10). Location is provided for most, but not all. Each building has a very brief significance statement, usually a sentence or two, which meets the minimum criteria.\n",
      "Score: 5/5\n",
      "\n",
      "**8. Image Relevance**\n",
      "Justification: All the images clearly relate to the buildings they are listed under. They are good at demonstrating key aspects of the architecture.\n",
      "Score: 5/5\n",
      "\n",
      "**9. Personal Bio & Photo**\n",
      "Justification: The student has included a photo and a short bio at the beginning of the document. The photo is acceptable, and the bio is sufficient. The placement is fine.\n",
      "Score: 5/5\n",
      "\n",
      "**10. Overall Completeness & Presentation**\n",
      "Justification: The presentation is sloppy and inconsistent. The document lacks key elements like a proper Table of Contents and clear organization. The \"Step\" headings are unprofessional. While individual sections have strong elements (like image coverage and attribution), the overall document feels rushed and lacks polish. There is no front page to this document, either.\n",
      "Score: 2/5\n",
      "\n",
      "**Summary of Scores:**\n",
      "\n",
      "1. Architect Selection & Scope: 4/5\n",
      "2. Organization & Document Setup: 1/5\n",
      "3. Biographical Content: 2/5\n",
      "4. Citation of Architect Biography: 1/5\n",
      "5. Selection & Quality of Images: 4/5\n",
      "6. Image Citation & Attribution: 5/5\n",
      "7. Coverage of 10 Famous Buildings: 5/5\n",
      "8. Image Relevance: 5/5\n",
      "9. Personal Bio & Photo: 5/5\n",
      "10. Overall Completeness & Presentation: 2/5\n",
      "\n",
      " Compiling final scorecard\n",
      "Starting full grading pipeline\n",
      " Extracting text from: /Users/ziyaozhou/desktop/submissions/delacruzrenier_LATE_226065_14930691_Paul Rudolph_ Life, Work, and Enduring Influence.pdf\n",
      " Extracted text from PDF\n",
      " Extracting images from: /Users/ziyaozhou/desktop/submissions/delacruzrenier_LATE_226065_14930691_Paul Rudolph_ Life, Work, and Enduring Influence.pdf\n",
      " Extracted 0 images\n",
      " Extracting references from text\n",
      "Scanning for image captions...\n",
      " Evaluating image content and relevance using Gemini...\n"
     ]
    },
    {
     "name": "stderr",
     "output_type": "stream",
     "text": [
      "Evaluating images: 0it [00:00, ?it/s]"
     ]
    },
    {
     "name": "stdout",
     "output_type": "stream",
     "text": [
      "Evaluating caption presence and structure\n",
      " Gemini evaluating full rubric with explanations\n"
     ]
    },
    {
     "name": "stderr",
     "output_type": "stream",
     "text": [
      "\n"
     ]
    },
    {
     "name": "stdout",
     "output_type": "stream",
     "text": [
      "Okay, here's a breakdown of the student's submission based on the provided rubric.\n",
      "\n",
      "**1. Architect Selection & Scope**\n",
      "Justification: The student chose Oscar Niemeyer. Based on the prompt (\"Book Two\"), this is a valid architect. The submission is entirely focused on Niemeyer's work, making it very much on-topic.\n",
      "Score: 5/5\n",
      "\n",
      "**2. Organization & Document Setup**\n",
      "Justification: The document includes a student bio and photo, sections describing buildings, and a reference section. The Table of Contents is missing which is a critical component and there is a weird labeling \"Step 1: Personal Information\" and so on.\n",
      "Score: 3/5\n",
      "\n",
      "**3. Biographical Content (750 words)**\n",
      "Justification: The biographical content appears at the very end before the references. It likely meets the 750-word requirement. However, it's difficult to ascertain whether it covers all the specified areas (achievements, education, significance, 1st building, typologies) without a close reading. From a scan, it does address achievements and significance but it's impossible to verify without a lot of manual work on my end. The placement is incorrect.\n",
      "Score: 3/5\n",
      "\n",
      "**4. Citation of Architect Biography**\n",
      "Justification: The reference list at the end contains web URLs, which are a start, but fall far short of academic references with DOIs and citation counts. The formatting isn't APA, and there are no citation counts included. The student is using a very basic method of linking, not true academic citation.\n",
      "Score: 1/5\n",
      "\n",
      "**5. Selection & Quality of Images**\n",
      "Justification: For each of the 10 buildings, the student has included multiple images. The image quality is good overall. The student has certainly met the basic requirements.\n",
      "Score: 4/5\n",
      "\n",
      "**6. Image Citation & Attribution**\n",
      "Justification: Each image has a URL cited beneath it, which is a good starting point. However, this is NOT a complete citation. There's no indication of the photographer, date of the image, or other vital information needed for proper attribution. The citation is also inconsistent.\n",
      "Score: 3/5\n",
      "\n",
      "**7. Coverage of 10 Famous Buildings**\n",
      "Justification: The student names 10 buildings, includes locations (mostly), and provides a sentence or two about their significance. The 'Image Selection Criteria' section seems unnecessary.\n",
      "Score: 4/5\n",
      "\n",
      "**8. Image Relevance**\n",
      "Justification: All images appear directly relevant to the buildings they are associated with. The selection seems appropriate, and the images showcase the architectural features described.\n",
      "Score: 5/5\n",
      "\n",
      "**9. Personal Bio & Photo**\n",
      "Justification: There is a photo and a short bio statement. The placement is unusual (middle of the document, seemingly not connected to TOC at all).\n",
      "Score: 3/5\n",
      "\n",
      "**10. Overall Completeness & Presentation**\n",
      "Justification: The document is relatively complete in terms of content but needs significant improvements in organization, formatting, and academic rigor. The layout is simple and somewhat repetitive. The missing TOC and the inconsistent heading styles detract from the overall presentation. The numbered headers also seem misplaced in a formal document.\n",
      "Score: 3/5\n",
      "\n",
      " Compiling final scorecard\n",
      "Starting full grading pipeline\n",
      " Extracting text from: /Users/ziyaozhou/desktop/submissions/emralinolalaine_LATE_162831_14938886_Glenn Murcutt_ “Touching the Earth Lightly”.pdf\n",
      " Extracted text from PDF\n",
      " Extracting images from: /Users/ziyaozhou/desktop/submissions/emralinolalaine_LATE_162831_14938886_Glenn Murcutt_ “Touching the Earth Lightly”.pdf\n",
      " Extracted 31 images\n",
      " Extracting references from text\n",
      "Scanning for image captions...\n",
      " Evaluating image content and relevance using Gemini...\n"
     ]
    },
    {
     "name": "stderr",
     "output_type": "stream",
     "text": [
      "Evaluating images:  74%|███████▍  | 23/31 [01:07<00:26,  3.29s/it]"
     ]
    },
    {
     "name": "stdout",
     "output_type": "stream",
     "text": [
      " Still failed to parse JSON from page9_img2.png: Expecting value: line 1 column 1 (char 0)\n"
     ]
    },
    {
     "name": "stderr",
     "output_type": "stream",
     "text": [
      "Evaluating images: 100%|██████████| 31/31 [01:39<00:00,  3.22s/it]\n"
     ]
    },
    {
     "name": "stdout",
     "output_type": "stream",
     "text": [
      "Evaluating caption presence and structure\n",
      " Gemini evaluating full rubric with explanations\n",
      "Okay, I will evaluate the submission based on the provided rubric and images.\n",
      "\n",
      "**1. Architect Selection & Scope**\n",
      "Justification: The student selected Oscar Niemeyer. While there is no explicit claim that he is \"from Book Two,\" Niemeyer is a very famous architect and a reasonable choice. The student focuses entirely on buildings designed by Niemeyer, making the scope appropriate.\n",
      "Score: 5/5\n",
      "\n",
      "**2. Organization & Document Setup**\n",
      "Justification: The organization is unusual but functional. There is no clear table of contents to start. However, there are distinct labeled sections for the student bio, 10 buildings, and bibliography. The student uses \"Step\" numbers as section headers instead of standard TOC-style labels. It's usable, but very non-standard and therefore loses some points.\n",
      "Score: 3/5\n",
      "\n",
      "**3. Biographical Content (750 words)**\n",
      "Justification: The biographical content appears only on the final page, making it difficult to read initially. The provided text gives a good summary of Niemeyer's style, his influences, and his significance. The student also mentions the Pritzker Prize and other awards. It would have been stronger if the student integrated Niemeyer's education into the biography as the rubric prompts for. While I can't verify the exact word count given the image format, the length appears adequate.\n",
      "Score: 4/5\n",
      "\n",
      "**4. Citation of Architect Biography**\n",
      "Justification: The \"Reference\" section includes a list of URLs and books. However, these are NOT properly formatted in APA style, and are missing DOIs and citation counts as requested in the rubric. The references are from a mix of sources that include britannica and architectural magazines. They are relevant, but the citation quality is severely lacking.\n",
      "Score: 1/5\n",
      "\n",
      "**5. Selection & Quality of Images**\n",
      "Justification: The student presents 10 buildings. For each building, there are multiple exterior and interior shots. The images appear to be of acceptable resolution. The requirement of 3+ exterior and 5+ interior is not fully followed for all buildings.\n",
      "Score: 4/5\n",
      "\n",
      "**6. Image Citation & Attribution**\n",
      "Justification: Every image has a URL provided underneath it which is great for accessibility and verifying the source of the image. The placement is consistent. This demonstrates good effort in attribution.\n",
      "Score: 5/5\n",
      "\n",
      "**7. Coverage of 10 Famous Buildings**\n",
      "Justification: The student names 10 buildings with the location and a short statement on their significance, covering the rubric requirements. However, the \"significance\" statements are VERY brief and could be expanded.\n",
      "Score: 4/5\n",
      "\n",
      "**8. Image Relevance**\n",
      "Justification: The images relate directly to the buildings they are associated with. They show exteriors and interiors and highlight architectural details, thus effectively serving the architectural purposes of the document.\n",
      "Score: 5/5\n",
      "\n",
      "**9. Personal Bio & Photo**\n",
      "Justification: The student includes a photo and a brief bio, correctly placed after what appears to be the TOC. The photo is clear, and the bio is a few sentences long. However, the graduation photo is not as \"professional\" as the prompt suggests.\n",
      "Score: 4/5\n",
      "\n",
      "**10. Overall Completeness & Presentation**\n",
      "Justification: The submission is mostly complete, though the formatting is highly inconsistent. The biography and reference sections are placed towards the back, which is a bit unusual. The layout could use a lot of polish for web publication. The use of \"Step\" numbering as a heading is strange.\n",
      "Score: 3/5\n",
      "\n",
      "\n",
      " Compiling final scorecard\n",
      "Starting full grading pipeline\n",
      " Extracting text from: /Users/ziyaozhou/desktop/submissions/hsucalvin_166834_14967682_Cogs 160 Slide and Doc Links for Turn-in.pdf\n",
      " Extracted text from PDF\n",
      " Extracting images from: /Users/ziyaozhou/desktop/submissions/hsucalvin_166834_14967682_Cogs 160 Slide and Doc Links for Turn-in.pdf\n",
      " Extracted 100 images\n",
      " Extracting references from text\n",
      "Scanning for image captions...\n",
      " Evaluating image content and relevance using Gemini...\n"
     ]
    },
    {
     "name": "stderr",
     "output_type": "stream",
     "text": [
      "Evaluating images:   5%|▌         | 5/100 [00:20<06:57,  4.39s/it]"
     ]
    },
    {
     "name": "stdout",
     "output_type": "stream",
     "text": [
      " Still failed to parse JSON from page7_img1.png: Expecting value: line 1 column 1 (char 0)\n"
     ]
    },
    {
     "name": "stderr",
     "output_type": "stream",
     "text": [
      "Evaluating images:  29%|██▉       | 29/100 [02:04<05:20,  4.52s/it]"
     ]
    },
    {
     "name": "stdout",
     "output_type": "stream",
     "text": [
      " Still failed to parse JSON from page20_img1.png: Expecting value: line 1 column 1 (char 0)\n"
     ]
    },
    {
     "name": "stderr",
     "output_type": "stream",
     "text": [
      "Evaluating images:  30%|███       | 30/100 [02:08<04:48,  4.12s/it]"
     ]
    },
    {
     "name": "stdout",
     "output_type": "stream",
     "text": [
      " Still failed to parse JSON from page21_img1.png: Expecting value: line 1 column 1 (char 0)\n"
     ]
    },
    {
     "name": "stderr",
     "output_type": "stream",
     "text": [
      "Evaluating images:  35%|███▌      | 35/100 [02:31<05:17,  4.89s/it]"
     ]
    },
    {
     "name": "stdout",
     "output_type": "stream",
     "text": [
      " Still failed to parse JSON from page23_img2.png: Expecting value: line 1 column 1 (char 0)\n"
     ]
    },
    {
     "name": "stderr",
     "output_type": "stream",
     "text": [
      "Evaluating images:  49%|████▉     | 49/100 [03:25<03:18,  3.89s/it]"
     ]
    },
    {
     "name": "stdout",
     "output_type": "stream",
     "text": [
      " Still failed to parse JSON from page31_img2.png: Expecting value: line 1 column 1 (char 0)\n"
     ]
    },
    {
     "name": "stderr",
     "output_type": "stream",
     "text": [
      "Evaluating images:  52%|█████▏    | 52/100 [03:34<02:37,  3.28s/it]"
     ]
    },
    {
     "name": "stdout",
     "output_type": "stream",
     "text": [
      " Still failed to parse JSON from page33_img2.png: Expecting value: line 1 column 1 (char 0)\n"
     ]
    },
    {
     "name": "stderr",
     "output_type": "stream",
     "text": [
      "Evaluating images:  62%|██████▏   | 62/100 [04:14<02:45,  4.37s/it]"
     ]
    },
    {
     "name": "stdout",
     "output_type": "stream",
     "text": [
      " Still failed to parse JSON from page39_img1.png: Expecting value: line 1 column 1 (char 0)\n"
     ]
    },
    {
     "name": "stderr",
     "output_type": "stream",
     "text": [
      "Evaluating images:  64%|██████▍   | 64/100 [04:21<02:23,  3.97s/it]"
     ]
    },
    {
     "name": "stdout",
     "output_type": "stream",
     "text": [
      " Still failed to parse JSON from page40_img1.png: Expecting value: line 1 column 1 (char 0)\n"
     ]
    },
    {
     "name": "stderr",
     "output_type": "stream",
     "text": [
      "Evaluating images:  68%|██████▊   | 68/100 [04:35<01:58,  3.70s/it]"
     ]
    },
    {
     "name": "stdout",
     "output_type": "stream",
     "text": [
      " Still failed to parse JSON from page42_img2.png: Expecting value: line 1 column 1 (char 0)\n"
     ]
    },
    {
     "name": "stderr",
     "output_type": "stream",
     "text": [
      "Evaluating images:  74%|███████▍  | 74/100 [04:59<01:36,  3.72s/it]"
     ]
    },
    {
     "name": "stdout",
     "output_type": "stream",
     "text": [
      " Still failed to parse JSON from page46_img3.png: Expecting value: line 1 column 1 (char 0)\n"
     ]
    },
    {
     "name": "stderr",
     "output_type": "stream",
     "text": [
      "Evaluating images:  86%|████████▌ | 86/100 [05:49<01:10,  5.00s/it]"
     ]
    },
    {
     "name": "stdout",
     "output_type": "stream",
     "text": [
      " Still failed to parse JSON from page49_img3.png: Expecting value: line 1 column 1 (char 0)\n"
     ]
    },
    {
     "name": "stderr",
     "output_type": "stream",
     "text": [
      "Evaluating images:  94%|█████████▍| 94/100 [06:20<00:23,  3.88s/it]"
     ]
    },
    {
     "name": "stdout",
     "output_type": "stream",
     "text": [
      " Still failed to parse JSON from page51_img4.png: Expecting value: line 1 column 1 (char 0)\n"
     ]
    },
    {
     "name": "stderr",
     "output_type": "stream",
     "text": [
      "Evaluating images: 100%|██████████| 100/100 [06:43<00:00,  4.03s/it]\n"
     ]
    },
    {
     "name": "stdout",
     "output_type": "stream",
     "text": [
      "Evaluating caption presence and structure\n",
      " Gemini evaluating full rubric with explanations\n",
      "Okay, I will assess this submission based on the provided rubric.\n",
      "\n",
      "**1. Architect Selection & Scope**\n",
      "Justification: The submission focuses on Oscar Niemeyer, who is a well-known architect and would be considered within the scope of \"Book Two.\" The architect is clearly identified at the start of the \"Step 2: 10 famous buildings\" section, and the entire report is dedicated to his work.\n",
      "Score: 5/5\n",
      "\n",
      "**2. Organization & Document Setup**\n",
      "Justification: The document is structured with clear sections, including the student bio/photo, the discussion of the 10 buildings, and a bibliography. The sections are labeled with headers like \"Step 1: Personal Information,\" \"Step 2: 10 famous buildings,\" \"Step 3: Bibliography,\" and \"Step 4: Reference.\" However, there's no table of contents.\n",
      "Score: 4/5\n",
      "\n",
      "**3. Biographical Content (750 words)**\n",
      "Justification: The biographical content appears in the \"Step 3: Bibliography\" section. While the section *is* biographical, it is out of place. Also, this section is only around 300 words, so this does not meet the word count requirements. It does generally touch on the achievements and significance of Niemeyer, but does not detail the architect's education or discuss typologies.\n",
      "Score: 2/5\n",
      "\n",
      "**4. Citation of Architect Biography**\n",
      "Justification: The references provided at the end are mostly websites. This does not meet the requirement for academic citations. Furthermore, the formatting is inconsistent and lacks key elements like DOIs and citation counts.\n",
      "Score: 1/5\n",
      "\n",
      "**5. Selection & Quality of Images**\n",
      "Justification: The submission includes images for all 10 buildings, which meets the quantity requirement. While the buildings have both interior and exterior shots, most do not have the minimum requirements of 3+ exterior and 5+ interior images. Image quality varies, with some being high-resolution and others showing pixelation, though most are generally adequate.\n",
      "Score: 3/5\n",
      "\n",
      "**6. Image Citation & Attribution**\n",
      "Justification: Every image has a URL provided below it, which serves as the source citation. However, the presentation of the citation could be improved. Instead of just the URL, a proper citation format (even a simplified one) would be better. There are also inconsistencies with these URLS, as some seem to be direct image links, and others link to the website where the image was sourced.\n",
      "Score: 4/5\n",
      "\n",
      "**7. Coverage of 10 Famous Buildings**\n",
      "Justification: The submission lists ten specific buildings designed by Niemeyer. For each building, the location and a brief statement of significance (1-2 sentences) are provided, which meets the core requirements.\n",
      "Score: 5/5\n",
      "\n",
      "**8. Image Relevance**\n",
      "Justification: All images relate directly to the described buildings. Most images demonstrate the buildings' architectural features and are appropriately aligned with the descriptions.\n",
      "Score: 5/5\n",
      "\n",
      "**9. Personal Bio & Photo**\n",
      "Justification: A personal photo and a short bio are included at the beginning of the document. The placement is correct (after where a table of contents would be) and the bio provides some context about the student's interest in architecture, though the photo is casual rather than professional.\n",
      "Score: 4/5\n",
      "\n",
      "**10. Overall Completeness & Presentation**\n",
      "Justification: The submission is somewhat complete in that it covers all required elements, but the presentation needs improvement. The layout is basic, and the lack of a table of contents and the misplaced biographical content detract from the overall polish. The use of simple URLs as citations, instead of proper referencing also makes the document look less professional.\n",
      "Score: 3/5\n",
      "\n",
      " Compiling final scorecard\n",
      "Starting full grading pipeline\n",
      " Extracting text from: /Users/ziyaozhou/desktop/submissions/khirwadkarisha_166304_14925482_Report.pdf\n",
      " Extracted text from PDF\n",
      " Extracting images from: /Users/ziyaozhou/desktop/submissions/khirwadkarisha_166304_14925482_Report.pdf\n",
      " Extracted 52 images\n",
      " Extracting references from text\n",
      "Scanning for image captions...\n",
      " Evaluating image content and relevance using Gemini...\n"
     ]
    },
    {
     "name": "stderr",
     "output_type": "stream",
     "text": [
      "Evaluating images:   2%|▏         | 1/52 [00:04<03:57,  4.66s/it]"
     ]
    },
    {
     "name": "stdout",
     "output_type": "stream",
     "text": [
      " Still failed to parse JSON from page3_img1.png: Expecting value: line 1 column 1 (char 0)\n"
     ]
    },
    {
     "name": "stderr",
     "output_type": "stream",
     "text": [
      "Evaluating images:  17%|█▋        | 9/52 [00:35<03:02,  4.24s/it]"
     ]
    },
    {
     "name": "stdout",
     "output_type": "stream",
     "text": [
      " Still failed to parse JSON from page11_img3.png: Expecting value: line 1 column 1 (char 0)\n"
     ]
    },
    {
     "name": "stderr",
     "output_type": "stream",
     "text": [
      "Evaluating images:  25%|██▌       | 13/52 [00:49<02:20,  3.60s/it]"
     ]
    },
    {
     "name": "stdout",
     "output_type": "stream",
     "text": [
      " Still failed to parse JSON from page13_img3.png: Expecting value: line 1 column 1 (char 0)\n"
     ]
    },
    {
     "name": "stderr",
     "output_type": "stream",
     "text": [
      "Evaluating images:  29%|██▉       | 15/52 [00:56<02:11,  3.56s/it]"
     ]
    },
    {
     "name": "stdout",
     "output_type": "stream",
     "text": [
      " Still failed to parse JSON from page14_img2.png: Expecting value: line 1 column 1 (char 0)\n"
     ]
    },
    {
     "name": "stderr",
     "output_type": "stream",
     "text": [
      "Evaluating images:  33%|███▎      | 17/52 [01:04<02:10,  3.73s/it]"
     ]
    },
    {
     "name": "stdout",
     "output_type": "stream",
     "text": [
      " Still failed to parse JSON from page15_img2.png: Expecting value: line 1 column 1 (char 0)\n"
     ]
    },
    {
     "name": "stderr",
     "output_type": "stream",
     "text": [
      "Evaluating images:  40%|████      | 21/52 [01:20<02:01,  3.91s/it]"
     ]
    },
    {
     "name": "stdout",
     "output_type": "stream",
     "text": [
      " Still failed to parse JSON from page17_img2.png: Expecting value: line 1 column 1 (char 0)\n"
     ]
    },
    {
     "name": "stderr",
     "output_type": "stream",
     "text": [
      "Evaluating images:  42%|████▏     | 22/52 [01:27<02:28,  4.94s/it]"
     ]
    },
    {
     "name": "stdout",
     "output_type": "stream",
     "text": [
      " Still failed to parse JSON from page18_img1.png: Expecting value: line 1 column 1 (char 0)\n"
     ]
    },
    {
     "name": "stderr",
     "output_type": "stream",
     "text": [
      "Evaluating images:  48%|████▊     | 25/52 [01:42<02:15,  5.02s/it]"
     ]
    },
    {
     "name": "stdout",
     "output_type": "stream",
     "text": [
      " Still failed to parse JSON from page19_img2.png: Expecting value: line 1 column 1 (char 0)\n"
     ]
    },
    {
     "name": "stderr",
     "output_type": "stream",
     "text": [
      "Evaluating images:  56%|█████▌    | 29/52 [01:59<01:44,  4.53s/it]"
     ]
    },
    {
     "name": "stdout",
     "output_type": "stream",
     "text": [
      " Still failed to parse JSON from page21_img2.png: Expecting value: line 1 column 1 (char 0)\n"
     ]
    },
    {
     "name": "stderr",
     "output_type": "stream",
     "text": [
      "Evaluating images:  58%|█████▊    | 30/52 [02:03<01:37,  4.42s/it]"
     ]
    },
    {
     "name": "stdout",
     "output_type": "stream",
     "text": [
      " Still failed to parse JSON from page22_img1.png: Expecting value: line 1 column 1 (char 0)\n"
     ]
    },
    {
     "name": "stderr",
     "output_type": "stream",
     "text": [
      "Evaluating images:  67%|██████▋   | 35/52 [02:21<01:00,  3.58s/it]"
     ]
    },
    {
     "name": "stdout",
     "output_type": "stream",
     "text": [
      " Still failed to parse JSON from page24_img2.png: Expecting value: line 1 column 1 (char 0)\n"
     ]
    },
    {
     "name": "stderr",
     "output_type": "stream",
     "text": [
      "Evaluating images:  77%|███████▋  | 40/52 [02:39<00:44,  3.75s/it]"
     ]
    },
    {
     "name": "stdout",
     "output_type": "stream",
     "text": [
      " Still failed to parse JSON from page27_img2.png: Expecting value: line 1 column 1 (char 0)\n"
     ]
    },
    {
     "name": "stderr",
     "output_type": "stream",
     "text": [
      "Evaluating images:  88%|████████▊ | 46/52 [03:00<00:21,  3.56s/it]"
     ]
    },
    {
     "name": "stdout",
     "output_type": "stream",
     "text": [
      " Still failed to parse JSON from page30_img2.png: Expecting value: line 1 column 1 (char 0)\n"
     ]
    },
    {
     "name": "stderr",
     "output_type": "stream",
     "text": [
      "Evaluating images:  90%|█████████ | 47/52 [03:04<00:17,  3.57s/it]"
     ]
    },
    {
     "name": "stdout",
     "output_type": "stream",
     "text": [
      " Still failed to parse JSON from page31_img1.png: Expecting value: line 1 column 1 (char 0)\n"
     ]
    },
    {
     "name": "stderr",
     "output_type": "stream",
     "text": [
      "Evaluating images: 100%|██████████| 52/52 [03:22<00:00,  3.89s/it]\n"
     ]
    },
    {
     "name": "stdout",
     "output_type": "stream",
     "text": [
      "Evaluating caption presence and structure\n",
      " Gemini evaluating full rubric with explanations\n",
      "Okay, I will now assess this student's submission based on the provided rubric and images.\n",
      "\n",
      "**1. Architect Selection & Scope**\n",
      "Justification: The student chose Oscar Niemeyer. I do not have Book Two available to confirm, but based on his fame and contributions, it is HIGHLY likely he appears there. The selection is definitely on-topic for an architectural assignment.\n",
      "Score: 5/5\n",
      "\n",
      "**2. Organization & Document Setup**\n",
      "Justification: There is an attempt at organization, but it's not well-executed. There's no Table of Contents. There are \"Step\" labels (Personal Information, 10 Famous Buildings, Bibliography, References) that attempt to delineate sections, but they are inconsistently applied and don't function like true section headers. The \"steps\" are also numbered strangely, starting with \"Step 1: Personal Information\" on page 3. The student bio is present with a photo, but it is on page 2 of the document. Overall, it is somewhat confusing and lacks the formal structure expected.\n",
      "Score: 2/5\n",
      "\n",
      "**3. Biographical Content (750 words)**\n",
      "Justification: The biographical section on page 6 is reasonably detailed and discusses Niemeyer's architectural style, influences, political beliefs, and awards. It seems to cover the required points (who they are, achievements, education, significance, 1st building, typologies), although I'm unsure of the exact word count. It generally reads well and provides a decent overview of Niemeyer's life and work. However, the formatting is plain, and it would benefit from better structuring and integration of visual elements.\n",
      "Score: 4/5\n",
      "\n",
      "**4. Citation of Architect Biography**\n",
      "Justification: The \"Reference\" section lists several sources, but they are formatted very poorly. It seems the student copy-pasted URLs into the document, which is NOT correct APA style. There are books listed, but the formatting is still incorrect. DOIs and citation counts are completely absent. The sources appear generally relevant (Britannica, Oscar Niemeyer Foundation, articles about his work), but the citation method is academically unacceptable.\n",
      "Score: 1/5\n",
      "\n",
      "**5. Selection & Quality of Images**\n",
      "Justification: The student includes images for all 10 buildings, but not consistently. Some buildings have plenty of images, while others have only a few. The quality is mixed; some images are high-resolution, while others are noticeably pixelated or small. Some buildings clearly have 3+ exterior images and 5+ interior images, but other buildings are lacking.\n",
      "Score: 3/5\n",
      "\n",
      "**6. Image Citation & Attribution**\n",
      "Justification: Every image has a URL underneath it, indicating the source. This fulfills the *presence* of attribution, which is excellent. However, presenting the URLs directly is not proper academic formatting. The student should provide properly formatted citations for the source of each image, either as a caption or in a separate image credits section. There's no caption text beyond just the links. While the student attempts to attribute, the lack of formatting brings the score down.\n",
      "Score: 4/5\n",
      "\n",
      "**7. Coverage of 10 Famous Buildings**\n",
      "Justification: The student names ten buildings and provides a location and significance statement for each. The significance statements are brief (1-2 sentences), but they are present. The location is consistently provided as well. This meets the requirements of this category.\n",
      "Score: 5/5\n",
      "\n",
      "**8. Image Relevance**\n",
      "Justification: All the images seem to be directly related to the buildings they are presented under. They visually represent the architecture and characteristics mentioned in the brief descriptions. There don't appear to be any obviously off-topic or misaligned images.\n",
      "Score: 5/5\n",
      "\n",
      "**9. Personal Bio & Photo**\n",
      "Justification: The student includes a professional-looking photo and a short bio (1-2 sentences). However, its placement on page 2 of the document is non-ideal; it should be right after the non-existent TOC. The content of the bio is appropriate.\n",
      "Score: 4/5\n",
      "\n",
      "**10. Overall Completeness & Presentation**\n",
      "Justification: While the assignment is *complete* in terms of covering the required elements, the *presentation* is weak. The lack of a Table of Contents, inconsistent formatting, the absence of APA-style citations, and generally plain layout detract significantly from the overall polish. The document feels more like a draft than a final submission suitable for publication or even a professional portfolio. The direct URL citations under images are a major visual distraction.\n",
      "Score: 2/5\n",
      "\n",
      " Compiling final scorecard\n",
      "Starting full grading pipeline\n",
      " Extracting text from: /Users/ziyaozhou/desktop/submissions/krukjulia_LATE_198551_15046680_Eero Saarinen_ Cogs 160 Research Document.pdf\n",
      " Extracted text from PDF\n",
      " Extracting images from: /Users/ziyaozhou/desktop/submissions/krukjulia_LATE_198551_15046680_Eero Saarinen_ Cogs 160 Research Document.pdf\n",
      " Extracted 128 images\n",
      " Extracting references from text\n",
      "Scanning for image captions...\n",
      " Evaluating image content and relevance using Gemini...\n"
     ]
    },
    {
     "name": "stderr",
     "output_type": "stream",
     "text": [
      "Evaluating images:   2%|▏         | 2/128 [00:04<04:57,  2.36s/it]"
     ]
    },
    {
     "name": "stdout",
     "output_type": "stream",
     "text": [
      " Still failed to parse JSON from page3_img1.png: Expecting value: line 1 column 1 (char 0)\n"
     ]
    },
    {
     "name": "stderr",
     "output_type": "stream",
     "text": [
      "Evaluating images:  37%|███▋      | 47/128 [02:24<06:01,  4.47s/it]"
     ]
    },
    {
     "name": "stdout",
     "output_type": "stream",
     "text": [
      " Still failed to parse JSON from page20_img2.png: Expecting value: line 1 column 1 (char 0)\n"
     ]
    },
    {
     "name": "stderr",
     "output_type": "stream",
     "text": [
      "Evaluating images:  39%|███▉      | 50/128 [02:36<05:41,  4.38s/it]"
     ]
    },
    {
     "name": "stdout",
     "output_type": "stream",
     "text": [
      " Still failed to parse JSON from page21_img2.png: Expecting value: line 1 column 1 (char 0)\n"
     ]
    },
    {
     "name": "stderr",
     "output_type": "stream",
     "text": [
      "Evaluating images:  45%|████▍     | 57/128 [02:59<03:57,  3.35s/it]"
     ]
    },
    {
     "name": "stdout",
     "output_type": "stream",
     "text": [
      " Still failed to parse JSON from page23_img1.png: Expecting value: line 1 column 1 (char 0)\n"
     ]
    },
    {
     "name": "stderr",
     "output_type": "stream",
     "text": [
      "Evaluating images:  55%|█████▌    | 71/128 [03:46<03:56,  4.15s/it]"
     ]
    },
    {
     "name": "stdout",
     "output_type": "stream",
     "text": [
      " Still failed to parse JSON from page27_img2.png: Expecting value: line 1 column 1 (char 0)\n"
     ]
    },
    {
     "name": "stderr",
     "output_type": "stream",
     "text": [
      "Evaluating images:  71%|███████   | 91/128 [04:43<01:48,  2.93s/it]"
     ]
    },
    {
     "name": "stdout",
     "output_type": "stream",
     "text": [
      " Still failed to parse JSON from page33_img5.png: Expecting value: line 1 column 1 (char 0)\n"
     ]
    },
    {
     "name": "stderr",
     "output_type": "stream",
     "text": [
      "Evaluating images:  91%|█████████ | 116/128 [06:08<00:37,  3.10s/it]"
     ]
    },
    {
     "name": "stdout",
     "output_type": "stream",
     "text": [
      " Still failed to parse JSON from page40_img1.png: Expecting value: line 1 column 1 (char 0)\n"
     ]
    },
    {
     "name": "stderr",
     "output_type": "stream",
     "text": [
      "Evaluating images: 100%|██████████| 128/128 [06:50<00:00,  3.20s/it]\n"
     ]
    },
    {
     "name": "stdout",
     "output_type": "stream",
     "text": [
      "Evaluating caption presence and structure\n",
      " Gemini evaluating full rubric with explanations\n",
      "Okay, I will evaluate the student submission based on the provided rubric and images.\n",
      "\n",
      "**1. Architect Selection & Scope**\n",
      "Justification: The student selected Oscar Niemeyer. I don't have Book Two to confirm that Niemeyer is in there, but he is a well-known architect and this is likely correct. The architect is clearly stated.\n",
      "Score: 5/5\n",
      "\n",
      "**2. Organization & Document Setup**\n",
      "Justification: The document includes sections for personal information (student bio), 10 buildings and a bibliography. However, there is no table of contents.\n",
      "Score: 3/5\n",
      "\n",
      "**3. Biographical Content**\n",
      "Justification: The student's bio is roughly one page long, and includes basic biographical information. The quality of the writing is not high, and the information is presented as bullet points. The information about Niemeyer is spread across two pages in the \"Bibliography\" section, and the bio is only roughly 300 words.\n",
      "Score: 2/5\n",
      "\n",
      "**4. Citation of Architect Biography**\n",
      "Justification: The student provides a list of references in a \"Step 4: Reference\" section. These appear to be a mixture of web pages and some academic books. APA formatting is not correct, as it lacks in-text citations and DOI links. The sources are relevant to the architect's life and work.\n",
      "Score: 3/5\n",
      "\n",
      "**5. Selection & Quality of Images**\n",
      "Justification: The student includes images for 10 buildings. For most buildings, the number of images seems sufficient (around 5 or more). Image quality appears to be adequate for most.\n",
      "Score: 4/5\n",
      "\n",
      "**6. Image Citation & Attribution**\n",
      "Justification: Every image has a URL listed underneath it, which serves as the citation. The formatting is inconsistent (some have \"https://\" and some don't), but all images appear to be cited.\n",
      "Score: 4/5\n",
      "\n",
      "**7. Coverage of 10 Famous Buildings**\n",
      "Justification: The student lists 10 buildings. Each building has a name, location, and short significance statement.\n",
      "Score: 5/5\n",
      "\n",
      "**8. Image Relevance**\n",
      "Justification: Almost all of the images are directly related to the building described and illustrate the architectural qualities.\n",
      "Score: 5/5\n",
      "\n",
      "**9. Personal Bio & Photo**\n",
      "Justification: The student includes a photo and short bio, appearing after \"Step 1: Personal Information.\" The photo is not the most professional and is blurry. The bio is short, but provides context. Placement is non-ideal, as it is within the steps of the assignment.\n",
      "Score: 3/5\n",
      "\n",
      "**10. Overall Completeness & Presentation**\n",
      "Justification: The submission is complete in terms of content. However, the presentation is lacking. The document feels like a series of steps rather than a cohesive essay. The layout is inconsistent and lacks polish.\n",
      "Score: 3/5\n",
      "\n",
      " Compiling final scorecard\n",
      "Starting full grading pipeline\n",
      " Extracting text from: /Users/ziyaozhou/desktop/submissions/liangmichael_188529_14924464_COGS 160 - Docs.pdf\n",
      " Extracted text from PDF\n",
      " Extracting images from: /Users/ziyaozhou/desktop/submissions/liangmichael_188529_14924464_COGS 160 - Docs.pdf\n",
      " Extracted 91 images\n",
      " Extracting references from text\n",
      "Scanning for image captions...\n",
      " Evaluating image content and relevance using Gemini...\n"
     ]
    },
    {
     "name": "stderr",
     "output_type": "stream",
     "text": [
      "Evaluating images:  15%|█▌        | 14/91 [00:46<03:44,  2.91s/it]"
     ]
    },
    {
     "name": "stdout",
     "output_type": "stream",
     "text": [
      " Still failed to parse JSON from page9_img2.png: Expecting value: line 1 column 1 (char 0)\n"
     ]
    },
    {
     "name": "stderr",
     "output_type": "stream",
     "text": [
      "Evaluating images:  23%|██▎       | 21/91 [01:10<03:37,  3.11s/it]"
     ]
    },
    {
     "name": "stdout",
     "output_type": "stream",
     "text": [
      " Still failed to parse JSON from page13_img1.png: Expecting value: line 1 column 1 (char 0)\n"
     ]
    },
    {
     "name": "stderr",
     "output_type": "stream",
     "text": [
      "Evaluating images:  31%|███       | 28/91 [01:35<03:56,  3.75s/it]"
     ]
    },
    {
     "name": "stdout",
     "output_type": "stream",
     "text": [
      " Still failed to parse JSON from page17_img2.png: Expecting value: line 1 column 1 (char 0)\n"
     ]
    },
    {
     "name": "stderr",
     "output_type": "stream",
     "text": [
      "Evaluating images:  96%|█████████▌| 87/91 [05:18<00:13,  3.29s/it]"
     ]
    },
    {
     "name": "stdout",
     "output_type": "stream",
     "text": [
      " Still failed to parse JSON from page52_img2.png: Expecting value: line 1 column 1 (char 0)\n"
     ]
    },
    {
     "name": "stderr",
     "output_type": "stream",
     "text": [
      "Evaluating images: 100%|██████████| 91/91 [05:31<00:00,  3.64s/it]\n"
     ]
    },
    {
     "name": "stdout",
     "output_type": "stream",
     "text": [
      "Evaluating caption presence and structure\n",
      " Gemini evaluating full rubric with explanations\n",
      "Okay, I will evaluate the submission based on the provided rubric.\n",
      "\n",
      "**1. Architect Selection & Scope**\n",
      "Justification: The student has selected Oscar Niemeyer. While I don't have access to \"Book Two,\" Oscar Niemeyer is a major architect and the selection is relevant.\n",
      "Score: 5/5\n",
      "\n",
      "**2. Organization & Document Setup**\n",
      "Justification: The document includes labeled sections: Personal Information, 10 famous buildings, Bibliography, and Reference. There is no table of contents. This reduces readability and makes navigating the document more difficult. The stepping of \"Step 1\" etc is also awkward, instead of using standard headings.\n",
      "Score: 3/5\n",
      "\n",
      "**3. Biographical Content (750 words)**\n",
      "Justification: The document includes biographical information on the architect on page 6. It covers his life, style and design contributions. The content is less than 750 words. It seems to cover most of the requirements in terms of achievements, education, significance, and the first building, but the word count is too low.\n",
      "Score: 3/5\n",
      "\n",
      "**4. Citation of Architect Biography**\n",
      "Justification: The references on page 7 are not in APA format, and they are missing DOIs and citation counts. The sources used seem reasonable for an architectural overview (Brittanica, Pritzker Prize), but the formatting and missing information are significant flaws.\n",
      "Score: 2/5\n",
      "\n",
      "**5. Selection & Quality of Images**\n",
      "Justification: The assignment asks for at least 3 exterior and 5 interior shots per building; This requirement is not met. Some buildings have only two to three images total. The image quality is generally adequate, but some images are lower resolution than others.\n",
      "Score: 3/5\n",
      "\n",
      "**6. Image Citation & Attribution**\n",
      "Justification: Every image includes a URL source underneath it. This is consistently done throughout the document.\n",
      "Score: 5/5\n",
      "\n",
      "**7. Coverage of 10 Famous Buildings**\n",
      "Justification: The student lists and describes ten buildings, including the location and a short sentence or two about its significance, meeting the criteria.\n",
      "Score: 5/5\n",
      "\n",
      "**8. Image Relevance**\n",
      "Justification: All images appear to match the buildings they are intended to represent and illustrate aspects of their architecture, fitting the described buildings.\n",
      "Score: 5/5\n",
      "\n",
      "**9. Personal Bio & Photo**\n",
      "Justification: The student includes a photo and a short personal bio after what looks like the 'table of contents'. The photo is of adequate quality, and the bio is a sentence or two, as required. The placement is appropriate.\n",
      "Score: 5/5\n",
      "\n",
      "**10. Overall Completeness & Presentation**\n",
      "Justification: The submission is functionally complete but lacks polish. There is no table of contents, the formatting is basic, and there is some redundancy in the image presentation. The lack of APA formatting and the low word count on the bio significantly detract from the overall presentation.\n",
      "Score: 3/5\n",
      "\n",
      " Compiling final scorecard\n",
      "Starting full grading pipeline\n",
      " Extracting text from: /Users/ziyaozhou/desktop/submissions/mainayardaniel_127050_14924649_COGS 160 Le Corbusier Doc.pdf\n",
      " Extracted text from PDF\n",
      " Extracting images from: /Users/ziyaozhou/desktop/submissions/mainayardaniel_127050_14924649_COGS 160 Le Corbusier Doc.pdf\n",
      " Extracted 79 images\n",
      " Extracting references from text\n",
      "Scanning for image captions...\n",
      " Evaluating image content and relevance using Gemini...\n"
     ]
    },
    {
     "name": "stderr",
     "output_type": "stream",
     "text": [
      "Evaluating images:   8%|▊         | 6/79 [00:16<03:28,  2.85s/it]"
     ]
    },
    {
     "name": "stdout",
     "output_type": "stream",
     "text": [
      " Still failed to parse JSON from page7_img1.png: Expecting value: line 1 column 1 (char 0)\n"
     ]
    },
    {
     "name": "stderr",
     "output_type": "stream",
     "text": [
      "Evaluating images:  19%|█▉        | 15/79 [00:52<04:04,  3.83s/it]"
     ]
    },
    {
     "name": "stdout",
     "output_type": "stream",
     "text": [
      " Still failed to parse JSON from page12_img2.png: Expecting value: line 1 column 1 (char 0)\n"
     ]
    },
    {
     "name": "stderr",
     "output_type": "stream",
     "text": [
      "Evaluating images:  32%|███▏      | 25/79 [01:30<03:30,  3.90s/it]"
     ]
    },
    {
     "name": "stdout",
     "output_type": "stream",
     "text": [
      " Still failed to parse JSON from page18_img1.png: Expecting value: line 1 column 1 (char 0)\n"
     ]
    },
    {
     "name": "stderr",
     "output_type": "stream",
     "text": [
      "Evaluating images:  42%|████▏     | 33/79 [02:05<03:27,  4.51s/it]"
     ]
    },
    {
     "name": "stdout",
     "output_type": "stream",
     "text": [
      " Still failed to parse JSON from page23_img1.png: Expecting value: line 1 column 1 (char 0)\n"
     ]
    },
    {
     "name": "stderr",
     "output_type": "stream",
     "text": [
      "Evaluating images:  43%|████▎     | 34/79 [02:09<03:24,  4.55s/it]"
     ]
    },
    {
     "name": "stdout",
     "output_type": "stream",
     "text": [
      " Still failed to parse JSON from page23_img2.png: Expecting value: line 1 column 1 (char 0)\n"
     ]
    },
    {
     "name": "stderr",
     "output_type": "stream",
     "text": [
      "Evaluating images:  80%|███████▉  | 63/79 [03:48<00:53,  3.37s/it]"
     ]
    },
    {
     "name": "stdout",
     "output_type": "stream",
     "text": [
      " Still failed to parse JSON from page42_img2.png: Expecting value: line 1 column 1 (char 0)\n"
     ]
    },
    {
     "name": "stderr",
     "output_type": "stream",
     "text": [
      "Evaluating images: 100%|██████████| 79/79 [04:33<00:00,  3.46s/it]\n"
     ]
    },
    {
     "name": "stdout",
     "output_type": "stream",
     "text": [
      "Evaluating caption presence and structure\n",
      " Gemini evaluating full rubric with explanations\n",
      "Okay, I will now provide a detailed rubric-based analysis of the submitted assignment.\n",
      "\n",
      "**1. Architect Selection & Scope**\n",
      "Justification: The student chose Oscar Niemeyer, who would have been listed under the broad architecture category of Book Two. This choice aligns with the instructions. Niemeyer is a suitable architect for the assignment.\n",
      "Score: 5/5\n",
      "\n",
      "**2. Organization & Document Setup**\n",
      "Justification: The document lacks a proper Table of Contents. It has labeled sections (Personal Information, Buildings, Bio, References), but the formatting is not professional and the section titles are oddly labelled as \"Step 1,\" \"Step 2,\" etc. which is unconventional for a formal academic submission. The image layout is also problematic (each image appears on its own page).\n",
      "Score: 2/5\n",
      "\n",
      "**3. Biographical Content (750 words)**\n",
      "Justification: The student includes a short biographical summary of Oscar Niemeyer on the \"Step 3: Bibliography\" page. It touches on key elements like his architectural style, influences, and legacy. While the content is relevant, it's significantly less than the required 750 words. The placement of the bio on the Bibliography page is unusual and incorrect. It also makes no mention of his first building project, nor of the architectural typologies that he worked with.\n",
      "Score: 2/5\n",
      "\n",
      "**4. Citation of Architect Biography**\n",
      "Justification: The \"Step 4: References\" section lists several sources used to gather information about Niemeyer. However, the entries are basic URLs and titles. This is NOT APA format, nor does it include DOIs or citation counts. These are not academic references, but appear to be primarily links to websites.\n",
      "Score: 1/5\n",
      "\n",
      "**5. Selection & Quality of Images**\n",
      "Justification: The student covers 10 buildings as requested. However, the image presentation is awkward, with each image on its own page. The images are of varying quality; some are high-resolution, while others appear pixelated. While there are several images, most buildings do not meet the minimum requirement of 3 exterior and 5 interior photos.\n",
      "Score: 3/5\n",
      "\n",
      "**6. Image Citation & Attribution**\n",
      "Justification: Every image includes a URL, which serves as attribution. The consistency is good; every image is cited. However, the URLs are not formatted as academic references.\n",
      "Score: 4/5\n",
      "\n",
      "**7. Coverage of 10 Famous Buildings**\n",
      "Justification: The student lists 10 buildings with location and a brief significance statement for each. This part meets the requirements.\n",
      "Score: 5/5\n",
      "\n",
      "**8. Image Relevance**\n",
      "Justification: The images are generally relevant to the buildings they are associated with. However, the selection could be better tailored to highlight the architectural significance described in the brief descriptions.\n",
      "Score: 4/5\n",
      "\n",
      "**9. Personal Bio & Photo**\n",
      "Justification: The student includes a photo and a short bio (1-2 sentences). The placement is correct (after the would-be TOC page). However, the photo is not particularly professional, and the bio is very short.\n",
      "Score: 4/5\n",
      "\n",
      "**10. Overall Completeness & Presentation**\n",
      "Justification: The submission is incomplete in several respects (word count on bio, proper TOC). The layout is problematic (images on separate pages) and lacks polish. The labeling of sections as \"Step 1,\" \"Step 2,\" etc., is unconventional and detracts from the professionalism.\n",
      "Score: 2/5\n",
      "\n",
      "---\n",
      "**Summary of Scores:**\n",
      "1. Architect Selection & Scope: 5/5\n",
      "2. Organization & Document Setup: 2/5\n",
      "3. Biographical Content: 2/5\n",
      "4. Citation of Architect Biography: 1/5\n",
      "5. Selection & Quality of Images: 3/5\n",
      "6. Image Citation & Attribution: 4/5\n",
      "7. Coverage of 10 Famous Buildings: 5/5\n",
      "8. Image Relevance: 4/5\n",
      "9. Personal Bio & Photo: 4/5\n",
      "10. Overall Completeness & Presentation: 2/5\n",
      "\n",
      " Compiling final scorecard\n",
      "Starting full grading pipeline\n",
      " Extracting text from: /Users/ziyaozhou/desktop/submissions/marvanalicia_212624_14925657_A.Marvan_LuisBarragan.pdf\n",
      " Extracted text from PDF\n",
      " Extracting images from: /Users/ziyaozhou/desktop/submissions/marvanalicia_212624_14925657_A.Marvan_LuisBarragan.pdf\n",
      " Extracted 5 images\n",
      " Extracting references from text\n",
      "Scanning for image captions...\n",
      " Evaluating image content and relevance using Gemini...\n"
     ]
    },
    {
     "name": "stderr",
     "output_type": "stream",
     "text": [
      "Evaluating images:  20%|██        | 1/5 [00:03<00:12,  3.24s/it]"
     ]
    },
    {
     "name": "stdout",
     "output_type": "stream",
     "text": [
      " Still failed to parse JSON from page1_img1.png: Expecting value: line 1 column 1 (char 0)\n"
     ]
    },
    {
     "name": "stderr",
     "output_type": "stream",
     "text": [
      "Evaluating images: 100%|██████████| 5/5 [00:12<00:00,  2.57s/it]\n"
     ]
    },
    {
     "name": "stdout",
     "output_type": "stream",
     "text": [
      "Evaluating caption presence and structure\n",
      " Gemini evaluating full rubric with explanations\n",
      "Okay, I've reviewed the student's submission on Oscar Niemeyer. Here's my rubric-based analysis:\n",
      "\n",
      "**1. Architect Selection & Scope**\n",
      "Justification: The student has correctly identified Oscar Niemeyer, a prominent architect from Book Two. The submission is clearly focused on his work and relevant to the assignment's scope.\n",
      "Score: 5/5\n",
      "\n",
      "**2. Organization & Document Setup**\n",
      "Justification: The document is organized into sections, but there is no table of contents. The sections are labelled, however, the labels don't follow a conventional structure. (e.g. \"Step 1: Personal Information\", \"Step 2: 10 Famous Buildings\", \"Step 3: Bibliography\", \"Step 4: Reference\")\n",
      "Score: 2/5\n",
      "\n",
      "**3. Biographical Content (750 words)**\n",
      "Justification: The student has included a biographical section. However, the word count is significantly below the required 750 words. The content covers basic information about Oscar Niemeyer but lacks depth in areas like his specific architectural typologies, education, or a deep dive into his early work.\n",
      "Score: 2/5\n",
      "\n",
      "**4. Citation of Architect Biography**\n",
      "Justification: The student provides a list of references at the end of the biographical section. However, they are simply listed as URLs with minimal formatting and don't follow APA or any other established academic citation style. DOIs and citation counts are absent.\n",
      "Score: 1/5\n",
      "\n",
      "**5. Selection & Quality of Images**\n",
      "Justification: For many buildings, the student has included multiple images, some exterior and interior. However, the stated goal of 3+ exterior and 5+ interior is not achieved for all ten buildings. Also the quality is not high resolution consistently.\n",
      "Score: 3/5\n",
      "\n",
      "**6. Image Citation & Attribution**\n",
      "Justification: The student consistently includes a source URL or website below each image, which is a commendable effort at attribution. However, the style is very inconsistent as sometimes it is a URL and sometimes it is photographer credit. It would be much better to have APA formatting for citations.\n",
      "Score: 4/5\n",
      "\n",
      "**7. Coverage of 10 Famous Buildings**\n",
      "Justification: The student has listed and described 10 buildings by Niemeyer. Each description includes location and a brief statement of significance.\n",
      "Score: 5/5\n",
      "\n",
      "**8. Image Relevance**\n",
      "Justification: Almost all images directly relate to the buildings they are associated with. The images showcase the architectural features and designs described in the brief descriptions.\n",
      "Score: 5/5\n",
      "\n",
      "**9. Personal Bio & Photo**\n",
      "Justification: The student has included a photo and a brief bio. While the photo is clear, the bio is somewhat casual and could be more professional.\n",
      "Score: 4/5\n",
      "\n",
      "**10. Overall Completeness & Presentation**\n",
      "Justification: While the submission includes all the required elements, the overall presentation lacks polish. The document feels a bit rushed, with inconsistent formatting and a lack of design considerations. The sections aren't clear, and the citations do not follow an academic style.\n",
      "Score: 2/5\n",
      "\n",
      " Compiling final scorecard\n",
      "Starting full grading pipeline\n",
      " Extracting text from: /Users/ziyaozhou/desktop/submissions/spavenchristine_LATE_96300_14929508_COGS 160_1 (1).pdf\n",
      " Extracted text from PDF\n",
      " Extracting images from: /Users/ziyaozhou/desktop/submissions/spavenchristine_LATE_96300_14929508_COGS 160_1 (1).pdf\n",
      " Extracted 69 images\n",
      " Extracting references from text\n",
      "Scanning for image captions...\n",
      " Evaluating image content and relevance using Gemini...\n"
     ]
    },
    {
     "name": "stderr",
     "output_type": "stream",
     "text": [
      "Evaluating images:  46%|████▋     | 32/69 [01:52<02:18,  3.74s/it]"
     ]
    },
    {
     "name": "stdout",
     "output_type": "stream",
     "text": [
      " Still failed to parse JSON from page19_img1.png: Expecting value: line 1 column 1 (char 0)\n"
     ]
    },
    {
     "name": "stderr",
     "output_type": "stream",
     "text": [
      "Evaluating images:  51%|█████     | 35/69 [02:05<02:22,  4.20s/it]"
     ]
    },
    {
     "name": "stdout",
     "output_type": "stream",
     "text": [
      " Still failed to parse JSON from page20_img2.png: Expecting value: line 1 column 1 (char 0)\n"
     ]
    },
    {
     "name": "stderr",
     "output_type": "stream",
     "text": [
      "Evaluating images:  70%|██████▉   | 48/69 [02:53<01:37,  4.64s/it]"
     ]
    },
    {
     "name": "stdout",
     "output_type": "stream",
     "text": [
      " Still failed to parse JSON from page28_img1.png: Expecting value: line 1 column 1 (char 0)\n"
     ]
    },
    {
     "name": "stderr",
     "output_type": "stream",
     "text": [
      "Evaluating images:  72%|███████▏  | 50/69 [03:01<01:20,  4.26s/it]"
     ]
    },
    {
     "name": "stdout",
     "output_type": "stream",
     "text": [
      " Still failed to parse JSON from page29_img1.png: Expecting value: line 1 column 1 (char 0)\n"
     ]
    },
    {
     "name": "stderr",
     "output_type": "stream",
     "text": [
      "Evaluating images:  90%|████████▉ | 62/69 [03:48<00:32,  4.66s/it]"
     ]
    },
    {
     "name": "stdout",
     "output_type": "stream",
     "text": [
      " Still failed to parse JSON from page36_img1.png: Expecting value: line 1 column 1 (char 0)\n"
     ]
    },
    {
     "name": "stderr",
     "output_type": "stream",
     "text": [
      "Evaluating images:  91%|█████████▏| 63/69 [03:52<00:27,  4.56s/it]"
     ]
    },
    {
     "name": "stdout",
     "output_type": "stream",
     "text": [
      " Still failed to parse JSON from page37_img1.png: Expecting value: line 1 column 1 (char 0)\n"
     ]
    },
    {
     "name": "stderr",
     "output_type": "stream",
     "text": [
      "Evaluating images:  93%|█████████▎| 64/69 [03:57<00:23,  4.76s/it]"
     ]
    },
    {
     "name": "stdout",
     "output_type": "stream",
     "text": [
      " Still failed to parse JSON from page37_img2.png: Expecting value: line 1 column 1 (char 0)\n"
     ]
    },
    {
     "name": "stderr",
     "output_type": "stream",
     "text": [
      "Evaluating images: 100%|██████████| 69/69 [04:18<00:00,  3.75s/it]\n"
     ]
    },
    {
     "name": "stdout",
     "output_type": "stream",
     "text": [
      "Evaluating caption presence and structure\n",
      " Gemini evaluating full rubric with explanations\n",
      "Okay, I will now assess the student's submission based on the provided rubric.\n",
      "\n",
      "**1. Architect Selection & Scope**\n",
      "Justification: The student chose Oscar Niemeyer, who is definitely an architect covered in Book Two. The selection is clearly stated and on-topic.\n",
      "Score: 5/5\n",
      "\n",
      "**2. Organization & Document Setup**\n",
      "Justification: The document is set up with identifiable sections, including a personal bio & photo, buildings, and references. However, the layout is not consistent and is confusing. There isn't a table of contents, the document uses Step 1-4, instead of titles and there isn't clear headings that are easily discernible.\n",
      "Score: 2/5\n",
      "\n",
      "**3. Biographical Content (750 words)**\n",
      "Justification: The biographical content appears to be in the \"Step 3: Bibliography\" section, which is a mislabeling. The length appears adequate, exceeding the word count. However, it's less about a structured biography and more of a summary or overview of his work. The information regarding Niemeyer’s achievements, education, and typologies is present, but not as explicitly as expected in a biographical section.\n",
      "Score: 3/5\n",
      "\n",
      "**4. Citation of Architect Biography**\n",
      "Justification: The \"Step 4: Reference\" section includes several sources, but they are formatted as URLs with descriptions, not in proper APA citation style. The sources are academically relevant, but there are no DOIs, and the formatting is incorrect. Citation counts are also absent.\n",
      "Score: 2/5\n",
      "\n",
      "**5. Selection & Quality of Images**\n",
      "Justification: The student has included images for 10 buildings. The quantity varies. Some buildings have a good selection of both interior and exterior shots, while others are lacking in one or both. Image resolution is mostly adequate, but could be better for some.\n",
      "Score: 3/5\n",
      "\n",
      "**6. Image Citation & Attribution**\n",
      "Justification: Every image has a URL beneath it, attributing the source. This is consistent, which is good. However, just including a URL isn't ideal; including photographer/source names inline with the caption would be a more polished approach.\n",
      "Score: 4/5\n",
      "\n",
      "**7. Coverage of 10 Famous Buildings**\n",
      "Justification: The student lists 10 buildings with their location and a short significance statement. The descriptions are brief but present.\n",
      "Score: 5/5\n",
      "\n",
      "**8. Image Relevance**\n",
      "Justification: Most of the images are relevant to the buildings they are associated with, and showcase their architectural qualities. There might be one or two where the connection is less obvious, but overall, the images support the described buildings.\n",
      "Score: 4/5\n",
      "\n",
      "**9. Personal Bio & Photo**\n",
      "Justification: The student included a personal photo and a short bio after the \"Personal Information\" section. It is present and fulfills the basic requirements. The photo quality is acceptable. The placement is correct.\n",
      "Score: 5/5\n",
      "\n",
      "**10. Overall Completeness & Presentation**\n",
      "Justification: The submission is largely complete in terms of required content. However, the presentation lacks polish. The section titles are labeled \"step 1-4\". Layout is inconsistent, lacks a table of contents and section headers. The \"Bibliography\" section is mislabeled. The image formatting and arrangement could be more visually appealing. It doesn't feel fully polished or ready for publication.\n",
      "Score: 2/5\n",
      "\n",
      " Compiling final scorecard\n",
      "⚠️ Warning: file not found: /Users/ziyaozhou/desktop/submissions/vidyalatanvi_LATE_218146_14937211_COGS 160 A1-1.docx\n",
      "Starting full grading pipeline\n",
      " Extracting text from: /Users/ziyaozhou/desktop/submissions/wucynthia_LATE_167097_15019933_COGS 160.pdf\n",
      " Extracted text from PDF\n",
      " Extracting images from: /Users/ziyaozhou/desktop/submissions/wucynthia_LATE_167097_15019933_COGS 160.pdf\n",
      " Extracted 0 images\n",
      " Extracting references from text\n",
      "Scanning for image captions...\n",
      " Evaluating image content and relevance using Gemini...\n"
     ]
    },
    {
     "name": "stderr",
     "output_type": "stream",
     "text": [
      "Evaluating images: 0it [00:00, ?it/s]"
     ]
    },
    {
     "name": "stdout",
     "output_type": "stream",
     "text": [
      "Evaluating caption presence and structure\n",
      " Gemini evaluating full rubric with explanations\n"
     ]
    },
    {
     "name": "stderr",
     "output_type": "stream",
     "text": [
      "\n"
     ]
    },
    {
     "name": "stdout",
     "output_type": "stream",
     "text": [
      "Okay, I will evaluate this student's submission on Oscar Niemeyer according to the rubric provided.\n",
      "\n",
      "**1. Architect Selection & Scope**\n",
      "Justification: The student has clearly selected Oscar Niemeyer, a very appropriate choice from \"Book Two\". This is explicitly stated in multiple locations. The entire report focuses solely on Niemeyer's work, fulfilling the \"on-topic\" requirement.\n",
      "Score: 5/5\n",
      "\n",
      "**2. Organization & Document Setup**\n",
      "Justification: The organization is somewhat present, but it's far from clear. There isn't a proper Table of Contents. There are headers, but they are very basic (e.g., \"Step 1: Personal Information\", \"Step 2: 10 famous buildings\", \"Step 3: Bibliography\", \"Step 4: Reference\") and not descriptive enough to serve as section titles in a TOC. The student bio is present, as are the sections on buildings and references. There is no Architect Bio at all, only a very small snippet introducing his bibliography. A real, dedicated architect biography section is missing.\n",
      "Score: 2/5\n",
      "\n",
      "**3. Biographical Content (750 words)**\n",
      "Justification: The submission *completely* lacks a proper biographical section of 750 words. There are just 5 sentences that introduce his bibliography on page 5. This section is almost entirely absent.\n",
      "Score: 1/5\n",
      "\n",
      "**4. Citation of Architect Biography**\n",
      "Justification: Since there isn't a dedicated architect biography section, it follows that there are no academic citations for it. The references provided at the end are a mixed bag of sources, many of which are not academic and lack the necessary DOI information. The formatting is also not APA.\n",
      "Score: 1/5\n",
      "\n",
      "**5. Selection & Quality of Images**\n",
      "Justification: For most buildings, the student includes several images. The images themselves vary in resolution; some are quite good, but others are lower quality. The number of images per building is somewhat inconsistent but mostly meets the requirement. The variety of image quality detracts from the overall impression.\n",
      "Score: 3/5\n",
      "\n",
      "**6. Image Citation & Attribution**\n",
      "Justification: Every image is followed by a URL, acting as a source citation. While a URL is provided, it's not formatted as a proper citation. This is better than nothing, but it doesn't meet academic standards for image attribution. The presentation is consistent, however.\n",
      "Score: 3/5\n",
      "\n",
      "**7. Coverage of 10 Famous Buildings**\n",
      "Justification: Ten buildings are explicitly listed. Each building is assigned a name, a location, and a significance statement. All requirements are met.\n",
      "Score: 5/5\n",
      "\n",
      "**8. Image Relevance**\n",
      "Justification: All images relate to the buildings they are grouped with. The images are relevant to what the buildings look like, and some interiors are shown. The 'image selection criteria' are noted by the student, although these are strangely placed within the building descriptions.\n",
      "Score: 5/5\n",
      "\n",
      "**9. Personal Bio & Photo**\n",
      "Justification: A student photo and a brief bio are provided. The photo appears to be of reasonable quality. The bio is short but covers the basics. The placement is somewhat awkward (it should be after a Table of Contents if it were present), but not completely wrong.\n",
      "Score: 4/5\n",
      "\n",
      "**10. Overall Completeness & Presentation**\n",
      "Justification: The presentation is lacking. The absence of a proper Table of Contents and a substantial biography section severely detract from the overall completeness. While the images are relevant and cited, the inconsistent image quality and unconventional formatting make the presentation appear rushed and unpolished.\n",
      "Score: 2/5\n",
      "\n",
      " Compiling final scorecard\n",
      "Starting full grading pipeline\n",
      " Extracting text from: /Users/ziyaozhou/desktop/submissions/yangheiman_LATE_190478_14963531_COGS160.pdf\n",
      " Extracted text from PDF\n",
      " Extracting images from: /Users/ziyaozhou/desktop/submissions/yangheiman_LATE_190478_14963531_COGS160.pdf\n",
      " Extracted 81 images\n",
      " Extracting references from text\n",
      "Scanning for image captions...\n",
      " Evaluating image content and relevance using Gemini...\n"
     ]
    },
    {
     "name": "stderr",
     "output_type": "stream",
     "text": [
      "Evaluating images:   5%|▍         | 4/81 [00:11<03:32,  2.75s/it]"
     ]
    },
    {
     "name": "stdout",
     "output_type": "stream",
     "text": [
      " Still failed to parse JSON from page4_img2.png: Expecting value: line 1 column 1 (char 0)\n"
     ]
    },
    {
     "name": "stderr",
     "output_type": "stream",
     "text": [
      "Evaluating images:  10%|▉         | 8/81 [00:20<02:57,  2.43s/it]"
     ]
    },
    {
     "name": "stdout",
     "output_type": "stream",
     "text": [
      " Still failed to parse JSON from page6_img1.png: Expecting value: line 1 column 1 (char 0)\n"
     ]
    },
    {
     "name": "stderr",
     "output_type": "stream",
     "text": [
      "Evaluating images:  44%|████▍     | 36/81 [01:35<01:43,  2.30s/it]"
     ]
    },
    {
     "name": "stdout",
     "output_type": "stream",
     "text": [
      " Still failed to parse JSON from page20_img1.png: Expecting value: line 1 column 1 (char 0)\n"
     ]
    },
    {
     "name": "stderr",
     "output_type": "stream",
     "text": [
      "Evaluating images:  56%|█████▌    | 45/81 [01:57<01:27,  2.44s/it]"
     ]
    },
    {
     "name": "stdout",
     "output_type": "stream",
     "text": [
      " Still failed to parse JSON from page24_img2.png: Expecting value: line 1 column 1 (char 0)\n"
     ]
    },
    {
     "name": "stderr",
     "output_type": "stream",
     "text": [
      "Evaluating images:  95%|█████████▌| 77/81 [03:40<00:11,  2.96s/it]"
     ]
    },
    {
     "name": "stdout",
     "output_type": "stream",
     "text": [
      " Still failed to parse JSON from page42_img2.png: Expecting value: line 1 column 1 (char 0)\n"
     ]
    },
    {
     "name": "stderr",
     "output_type": "stream",
     "text": [
      "Evaluating images:  98%|█████████▊| 79/81 [03:45<00:05,  2.82s/it]"
     ]
    },
    {
     "name": "stdout",
     "output_type": "stream",
     "text": [
      " Still failed to parse JSON from page43_img1.png: Expecting value: line 1 column 1 (char 0)\n"
     ]
    },
    {
     "name": "stderr",
     "output_type": "stream",
     "text": [
      "Evaluating images: 100%|██████████| 81/81 [03:50<00:00,  2.85s/it]\n"
     ]
    },
    {
     "name": "stdout",
     "output_type": "stream",
     "text": [
      "Evaluating caption presence and structure\n",
      " Gemini evaluating full rubric with explanations\n",
      "Okay, I will evaluate the student's submission based on the provided rubric and images.\n",
      "\n",
      "**1. Architect Selection & Scope**\n",
      "Justification: The student chose Oscar Niemeyer, who is a well-known architect. Assuming this architect is included in \"Book Two\" (which I cannot verify), the selection is appropriate and clearly stated.\n",
      "Score: 5/5\n",
      "\n",
      "**2. Organization & Document Setup**\n",
      "Justification: The document is *partially* organized. There is a rudimentary list of buildings, and a section for the student bio. However, there is no Table of Contents, and there are no clear headers for the biography, building descriptions, or reference sections *in the main body*. The student uses titles such as \"Step 1: Personal Information,\" which is an odd, informal approach. This needs a formal Table of Contents (which is missing) and better section labeling.\n",
      "Score: 2/5\n",
      "\n",
      "**3. Biographical Content (750 words)**\n",
      "Justification: The biographical content appears across two sections (\"Step 1: Personal Information\" + \"Step 3: Bibliography\"). It's hard to gauge the precise word count, but it seems to reach the minimum. The student covers Niemeyer's lifespan, nationality, and some details about his style, but misses out on education information. The content focuses on Niemeyer's political beliefs and how they affected his architecture. However, the content is very generalized and would benefit from more specific examples.\n",
      "Score: 3/5\n",
      "\n",
      "**4. Citation of Architect Biography**\n",
      "Justification: The \"Reference\" section has a list of sources, however, none of them are cited *within* the main text. This is a major issue. The references are also formatted inconsistently; some are properly formatted (e.g., Frampton) and some are not. Most are just URLs. No DOIs, citation counts, or proper APA formatting. This area is severely lacking.\n",
      "Score: 1/5\n",
      "\n",
      "**5. Selection & Quality of Images**\n",
      "Justification: The student includes images for 10 buildings. However, they're not properly integrated into the biographical section. While some buildings have at least 3 exterior and 5 interior images, there are many that fall short of this requirement, and image quality varies.\n",
      "Score: 3/5\n",
      "\n",
      "**6. Image Citation & Attribution**\n",
      "Justification: All images have a URL attribution below them, which is good. However, they are inconsistent; the student does not appear to be following any particular style guide. URLs are simply listed.\n",
      "Score: 4/5\n",
      "\n",
      "**7. Coverage of 10 Famous Buildings**\n",
      "Justification: The student lists 10 buildings with their location and a brief statement on their significance under \"Step 2: 10 famous buildings\". However, this is presented as a search query with suggested \"image selection criteria\", not as proper architectural writing. The significance statements are extremely short and superficial.\n",
      "Score: 3/5\n",
      "\n",
      "**8. Image Relevance**\n",
      "Justification: Generally, the images are relevant to the buildings they are associated with. However, without descriptive text *alongside* the images, it is difficult to fully appreciate their architectural value within the document. The format (images clumped *after* the text-based query section) also detracts from the overall quality.\n",
      "Score: 4/5\n",
      "\n",
      "**9. Personal Bio & Photo**\n",
      "Justification: The student includes a photo and a short bio. The photo is acceptable. The bio provides a brief introduction. Correctly placed.\n",
      "Score: 5/5\n",
      "\n",
      "**10. Overall Completeness & Presentation**\n",
      "Justification: The submission is far from being polished. The organization is poor, with a missing Table of Contents and an informal \"step\" based structure. The lack of in-text citations and the poor formatting of the reference list significantly impact the credibility of the work. The layout is also weak; the images are presented in a block *after* the initial building descriptions. A better approach would be to discuss each building, accompanied by relevant images and captions.\n",
      "Score: 2/5\n",
      "\n",
      " Compiling final scorecard\n",
      "          Criterion  Score  Max  \\\n",
      "0  Architect Chosen      5    5   \n",
      "1    Doc And Slides      3    5   \n",
      "2     Bio 750 Words      3    5   \n",
      "3     Bio Structure      0    5   \n",
      "4    Bio References      2    5   \n",
      "\n",
      "                                         Description  \\\n",
      "0  Is the architect selected from Book Two and cl...   \n",
      "1  Is the document structured well with table of ...   \n",
      "2  Does the biography meet the 750-word requirement?   \n",
      "3  Does the biography cover who they are, where t...   \n",
      "4  Are there 5–10 APA references with DOIs and ci...   \n",
      "\n",
      "                                         File       Architect  \n",
      "0  dasilvatheo_LATE_171930_14930244_HW A1.pdf  Oscar Niemeyer  \n",
      "1  dasilvatheo_LATE_171930_14930244_HW A1.pdf  Oscar Niemeyer  \n",
      "2  dasilvatheo_LATE_171930_14930244_HW A1.pdf  Oscar Niemeyer  \n",
      "3  dasilvatheo_LATE_171930_14930244_HW A1.pdf  Oscar Niemeyer  \n",
      "4  dasilvatheo_LATE_171930_14930244_HW A1.pdf  Oscar Niemeyer  \n",
      "                                                File           Architect  \\\n",
      "0         dasilvatheo_LATE_171930_14930244_HW A1.pdf      Oscar Niemeyer   \n",
      "1  davidmatthew_LATE_134808_14949557_COGS 160_ A1...       Kazuyo Sejima   \n",
      "2  delacruzrenier_LATE_226065_14930691_Paul Rudol...        Paul Rudolph   \n",
      "3  emralinolalaine_LATE_162831_14938886_Glenn Mur...       Glenn Murcutt   \n",
      "4  hsucalvin_166834_14967682_Cogs 160 Slide and D...  Frank Lloyd Wright   \n",
      "\n",
      "   10 Buildings With Images  Architect Chosen  Bio 750 Words  Bio References  \\\n",
      "0                       5.0               5.0            3.0             2.0   \n",
      "1                       5.0               4.0            2.0             1.0   \n",
      "2                       4.0               5.0            3.0             1.0   \n",
      "3                       4.0               5.0            4.0             1.0   \n",
      "4                       5.0               5.0            2.0             1.0   \n",
      "\n",
      "   Bio Structure  Doc And Slides  Image Citations  Image Quality  \\\n",
      "0            0.0             3.0              4.0            4.0   \n",
      "1            0.0             1.0              5.0            4.0   \n",
      "2            0.0             3.0              3.0            4.0   \n",
      "3            0.0             3.0              5.0            4.0   \n",
      "4            0.0             4.0              4.0            3.0   \n",
      "\n",
      "   Image Relevance  Personal Bio Photo  Presentation Polish  \n",
      "0              5.0                 4.0                  0.0  \n",
      "1              5.0                 5.0                  0.0  \n",
      "2              5.0                 3.0                  0.0  \n",
      "3              5.0                 4.0                  0.0  \n",
      "4              5.0                 4.0                  0.0  \n"
     ]
    }
   ],
   "source": [
    "import pandas as pd\n",
    "from pathlib import Path\n",
    "\n",
    "# 1. Your mapping of PDF filenames to chosen architects\n",
    "pdf_dict = {\n",
    "    \"dasilvatheo_LATE_171930_14930244_HW A1.pdf\": \"Oscar Niemeyer\",\n",
    "    \"davidmatthew_LATE_134808_14949557_COGS 160_ A1.pdf\": \"Kazuyo Sejima\",\n",
    "    \"delacruzrenier_LATE_226065_14930691_Paul Rudolph_ Life, Work, and Enduring Influence.pdf\": \"Paul Rudolph\",\n",
    "    \"emralinolalaine_LATE_162831_14938886_Glenn Murcutt_ “Touching the Earth Lightly”.pdf\": \"Glenn Murcutt\",\n",
    "    \"hsucalvin_166834_14967682_Cogs 160 Slide and Doc Links for Turn-in.pdf\": \"Frank Lloyd Wright\",\n",
    "    \"khirwadkarisha_166304_14925482_Report.pdf\": \"Ken Yeang\",\n",
    "    \"krukjulia_LATE_198551_15046680_Eero Saarinen_ Cogs 160 Research Document.pdf\": \"Eero Saarinen\",\n",
    "    \"liangmichael_188529_14924464_COGS 160 - Docs.pdf\": \"Zaha Hadid\",\n",
    "    \"mainayardaniel_127050_14924649_COGS 160 Le Corbusier Doc.pdf\": \"Le Corbusier\",\n",
    "    \"marvanalicia_212624_14925657_A.Marvan_LuisBarragan.pdf\": \"Luis Barragan\",\n",
    "    \"spavenchristine_LATE_96300_14929508_COGS 160_1 (1).pdf\": \"Richard Rogers\",\n",
    "    \"vidyalatanvi_LATE_218146_14937211_COGS 160 A1-1.docx\": \"Norman Robert Foster\",\n",
    "    \"wucynthia_LATE_167097_15019933_COGS 160.pdf\": \"Philip Johnson\",\n",
    "    \"yangheiman_LATE_190478_14963531_COGS160.pdf\": \"Sou Fujimoto\",\n",
    "}\n",
    "\n",
    "def batch_scorecards(pdf_dict, submissions_folder, debug=False):\n",
    "    submissions_folder = Path(submissions_folder)\n",
    "    records = []\n",
    "\n",
    "    for filename, architect in pdf_dict.items():\n",
    "        pdf_path = submissions_folder / filename\n",
    "        if not pdf_path.exists():\n",
    "            print(f\"⚠️ Warning: file not found: {pdf_path}\")\n",
    "            continue\n",
    "\n",
    "        rubric_df = run_autograder_full(str(pdf_path), architect, debug=debug)\n",
    "        rubric_df = rubric_df.assign(File=filename, Architect=architect)\n",
    "        records.append(rubric_df)\n",
    "\n",
    "    long_df = pd.concat(records, ignore_index=True)\n",
    "    return long_df\n",
    "\n",
    "submissions_dir = \"/Users/ziyaozhou/desktop/submissions\"\n",
    "long_df = batch_scorecards(pdf_dict, submissions_dir, debug=False)\n",
    "print(long_df.head())\n",
    "\n",
    "wide_df = long_df.pivot_table(\n",
    "    index=[\"File\", \"Architect\"],\n",
    "    columns=\"Criterion\",\n",
    "    values=\"Score\"\n",
    ").reset_index()\n",
    "\n",
    "wide_df.columns.name = None\n",
    "print(wide_df.head())\n"
   ]
  },
  {
   "cell_type": "code",
   "execution_count": null,
   "metadata": {},
   "outputs": [
    {
     "name": "stdout",
     "output_type": "stream",
     "text": [
      "                   Criterion  Variance    Weight\n",
      "0              Bio 750 Words  0.698225  0.196013\n",
      "1         Personal Bio Photo  0.686391  0.192691\n",
      "2             Doc And Slides  0.556213  0.156146\n",
      "3             Bio References  0.390533  0.109635\n",
      "4            Image Citations  0.378698  0.106312\n",
      "5   10 Buildings With Images  0.366864  0.102990\n",
      "6              Image Quality  0.236686  0.066445\n",
      "7            Image Relevance  0.177515  0.049834\n",
      "8           Architect Chosen  0.071006  0.019934\n",
      "9              Bio Structure  0.000000  0.000000\n",
      "10       Presentation Polish  0.000000  0.000000\n",
      "                                                 File           Architect  \\\n",
      "0          dasilvatheo_LATE_171930_14930244_HW A1.pdf      Oscar Niemeyer   \n",
      "1   davidmatthew_LATE_134808_14949557_COGS 160_ A1...       Kazuyo Sejima   \n",
      "2   delacruzrenier_LATE_226065_14930691_Paul Rudol...        Paul Rudolph   \n",
      "3   emralinolalaine_LATE_162831_14938886_Glenn Mur...       Glenn Murcutt   \n",
      "4   hsucalvin_166834_14967682_Cogs 160 Slide and D...  Frank Lloyd Wright   \n",
      "5           khirwadkarisha_166304_14925482_Report.pdf           Ken Yeang   \n",
      "6   krukjulia_LATE_198551_15046680_Eero Saarinen_ ...       Eero Saarinen   \n",
      "7    liangmichael_188529_14924464_COGS 160 - Docs.pdf          Zaha Hadid   \n",
      "8   mainayardaniel_127050_14924649_COGS 160 Le Cor...        Le Corbusier   \n",
      "9   marvanalicia_212624_14925657_A.Marvan_LuisBarr...       Luis Barragan   \n",
      "10  spavenchristine_LATE_96300_14929508_COGS 160_1...      Richard Rogers   \n",
      "11        wucynthia_LATE_167097_15019933_COGS 160.pdf      Philip Johnson   \n",
      "12        yangheiman_LATE_190478_14963531_COGS160.pdf        Sou Fujimoto   \n",
      "\n",
      "    WeightedScorePercent  \n",
      "0              72.026578  \n",
      "1              65.249169  \n",
      "2              61.794020  \n",
      "3              73.820598  \n",
      "4              67.707641  \n",
      "5              69.302326  \n",
      "6              66.445183  \n",
      "7              76.677741  \n",
      "8              60.465116  \n",
      "9              61.461794  \n",
      "10             58.870432  \n",
      "11             55.415282  \n",
      "12             64.119601  \n",
      "                                                 File           Architect  \\\n",
      "0          dasilvatheo_LATE_171930_14930244_HW A1.pdf      Oscar Niemeyer   \n",
      "1   davidmatthew_LATE_134808_14949557_COGS 160_ A1...       Kazuyo Sejima   \n",
      "2   delacruzrenier_LATE_226065_14930691_Paul Rudol...        Paul Rudolph   \n",
      "3   emralinolalaine_LATE_162831_14938886_Glenn Mur...       Glenn Murcutt   \n",
      "4   hsucalvin_166834_14967682_Cogs 160 Slide and D...  Frank Lloyd Wright   \n",
      "5           khirwadkarisha_166304_14925482_Report.pdf           Ken Yeang   \n",
      "6   krukjulia_LATE_198551_15046680_Eero Saarinen_ ...       Eero Saarinen   \n",
      "7    liangmichael_188529_14924464_COGS 160 - Docs.pdf          Zaha Hadid   \n",
      "8   mainayardaniel_127050_14924649_COGS 160 Le Cor...        Le Corbusier   \n",
      "9   marvanalicia_212624_14925657_A.Marvan_LuisBarr...       Luis Barragan   \n",
      "10  spavenchristine_LATE_96300_14929508_COGS 160_1...      Richard Rogers   \n",
      "11        wucynthia_LATE_167097_15019933_COGS 160.pdf      Philip Johnson   \n",
      "12        yangheiman_LATE_190478_14963531_COGS160.pdf        Sou Fujimoto   \n",
      "\n",
      "    RawScorePercent  RawRank  WeightedScorePercent  WeightedRank  \n",
      "0         63.636364        2             72.026578             3  \n",
      "1         58.181818        5             65.249169             7  \n",
      "2         56.363636        6             61.794020             9  \n",
      "3         63.636364        2             73.820598             2  \n",
      "4         60.000000        4             67.707641             5  \n",
      "5         60.000000        4             69.302326             4  \n",
      "6         61.818182        3             66.445183             6  \n",
      "7         65.454545        1             76.677741             1  \n",
      "8         54.545455        7             60.465116            11  \n",
      "9         56.363636        6             61.461794            10  \n",
      "10        54.545455        7             58.870432            12  \n",
      "11        52.727273        8             55.415282            13  \n",
      "12        54.545455        7             64.119601             8  \n"
     ]
    }
   ],
   "source": [
    "import pandas as pd\n",
    "\n",
    "def compute_weights_by_variance(long_df, score_col=\"Score\", criterion_col=\"Criterion\"):\n",
    "    var_series = long_df.groupby(criterion_col)[score_col].var(ddof=0)\n",
    "    variance_df = var_series.reset_index(name=\"Variance\")\n",
    "    total_var = variance_df[\"Variance\"].sum()\n",
    "    if total_var == 0:\n",
    "        variance_df[\"Weight\"] = 1.0 / len(variance_df)\n",
    "    else:\n",
    "        variance_df[\"Weight\"] = variance_df[\"Variance\"] / total_var\n",
    "    return variance_df.sort_values(\"Variance\", ascending=False).reset_index(drop=True)\n",
    "\n",
    "def apply_weighted_grades(wide_df, variance_df):\n",
    "    weight_map = dict(zip(variance_df[\"Criterion\"], variance_df[\"Weight\"]))\n",
    "    criterion_cols = [c for c in wide_df.columns if c not in [\"File\", \"Architect\"]]\n",
    "    wide_df[\"WeightedScore\"] = 0.0\n",
    "    for c in criterion_cols:\n",
    "        weight = weight_map.get(c, 0.0)\n",
    "        wide_df[\"WeightedScore\"] += (wide_df[c] / 5.0) * weight\n",
    "    wide_df[\"WeightedScorePercent\"] = wide_df[\"WeightedScore\"] * 100\n",
    "    return wide_df\n",
    "\n",
    "variance_df = compute_weights_by_variance(long_df)\n",
    "wide_df = apply_weighted_grades(wide_df, variance_df)\n",
    "\n",
    "print(variance_df)\n",
    "print(wide_df[[\"File\", \"Architect\", \"WeightedScorePercent\"]])\n",
    "wide_df.to_csv('wide_df.csv', index=False)\n",
    "\n",
    "criterion_cols = [c for c in wide_df.columns if c not in [\"File\", \"Architect\", \"WeightedScore\", \"WeightedScorePercent\"]]\n",
    "wide_df['RawScorePercent'] = wide_df[criterion_cols].sum(axis=1) / (5 * len(criterion_cols)) * 100\n",
    "\n",
    "wide_df['RawRank']      = wide_df['RawScorePercent'].rank(ascending=False, method='dense').astype(int)\n",
    "wide_df['WeightedRank'] = wide_df['WeightedScorePercent'].rank(ascending=False, method='dense').astype(int)\n",
    "\n",
    "print(wide_df[['File','Architect','RawScorePercent','RawRank','WeightedScorePercent','WeightedRank']])\n",
    "\n",
    "wide_df.to_csv('wide_df_with_raw_and_weighted_ranks.csv', index=False)"
   ]
  }
 ],
 "metadata": {
  "kernelspec": {
   "display_name": "Python (xrlab-3.11)",
   "language": "python",
   "name": "xrlab311"
  },
  "language_info": {
   "codemirror_mode": {
    "name": "ipython",
    "version": 3
   },
   "file_extension": ".py",
   "mimetype": "text/x-python",
   "name": "python",
   "nbconvert_exporter": "python",
   "pygments_lexer": "ipython3",
   "version": "3.11.12"
  }
 },
 "nbformat": 4,
 "nbformat_minor": 2
}
